{
 "cells": [
  {
   "cell_type": "code",
   "execution_count": 9,
   "metadata": {},
   "outputs": [
    {
     "name": "stdout",
     "output_type": "stream",
     "text": [
      "['Madrid', 'Helsinki', 'Oslo', 'Mendoza', 'Seul', 'Rio de janeiro', 'Lima']\n"
     ]
    }
   ],
   "source": [
    "# 1) Crear una lista que contenga nombres de ciudades del mundo que contenga más de 5 elementos e imprimir por pantalla\n",
    "\n",
    "ciudades_del_mundo=['Madrid', 'Helsinki', 'Oslo', 'Mendoza', 'Seul', 'Rio de janeiro', 'Lima']\n",
    "\n",
    "print(ciudades_del_mundo)\n"
   ]
  },
  {
   "cell_type": "code",
   "execution_count": 100,
   "metadata": {},
   "outputs": [
    {
     "name": "stdout",
     "output_type": "stream",
     "text": [
      "Helsinki\n"
     ]
    }
   ],
   "source": [
    "# 2) Imprimir por pantalla el segundo elemento de la lista\n",
    "\n",
    "print(ciudades_del_mundo[1])"
   ]
  },
  {
   "cell_type": "code",
   "execution_count": 101,
   "metadata": {},
   "outputs": [
    {
     "name": "stdout",
     "output_type": "stream",
     "text": [
      "['Helsinki', 'Oslo', 'Cusco']\n"
     ]
    }
   ],
   "source": [
    "# 3) Imprimir por pantalla del segundo al cuarto elemento\n",
    "\n",
    "print(ciudades_del_mundo[1:4])"
   ]
  },
  {
   "cell_type": "code",
   "execution_count": 102,
   "metadata": {},
   "outputs": [
    {
     "data": {
      "text/plain": [
       "list"
      ]
     },
     "execution_count": 102,
     "metadata": {},
     "output_type": "execute_result"
    }
   ],
   "source": [
    "# 4) Visualizar el tipo de dato de la lista\n",
    "type(ciudades_del_mundo)"
   ]
  },
  {
   "cell_type": "code",
   "execution_count": null,
   "metadata": {},
   "outputs": [],
   "source": [
    "# 5) Visualizar todos los elementos de la lista a partir del tercero de manera genérica, es decir, sin explicitar la posición del último elemento\n",
    "print(ciudades_del_mundo[2:])"
   ]
  },
  {
   "cell_type": "code",
   "execution_count": 14,
   "metadata": {},
   "outputs": [
    {
     "name": "stdout",
     "output_type": "stream",
     "text": [
      "['Madrid', 'Helsinki', 'Oslo', 'Mendoza']\n"
     ]
    }
   ],
   "source": [
    "# 6) Visualizar los primeros 4 elementos de la lista\n",
    "\n",
    "print(ciudades_del_mundo[:4])"
   ]
  },
  {
   "cell_type": "code",
   "execution_count": 31,
   "metadata": {},
   "outputs": [
    {
     "name": "stdout",
     "output_type": "stream",
     "text": [
      "['Madrid', 'Helsinki', 'Oslo', 'Seul', 'Rio de janeiro', 'Lima', 'Moscú', 'Mendoza']\n"
     ]
    }
   ],
   "source": [
    "# 7) Agregar una ciudad más a la lista que ya exista y otra que no ¿Arroja algún tipo de error?\n",
    "\n",
    "ciudades_del_mundo.append('Moscú')\n",
    "ciudades_del_mundo.append('Mendoza')\n",
    "\n",
    "print(ciudades_del_mundo)\n",
    "\n",
    "#No arroja error, se agregan al final de la lista"
   ]
  },
  {
   "cell_type": "code",
   "execution_count": 35,
   "metadata": {},
   "outputs": [
    {
     "name": "stdout",
     "output_type": "stream",
     "text": [
      "['Madrid', 'Helsinki', 'Oslo', 'Cusco', 'Seul', 'Rio de janeiro', 'Lima', 'Moscú', 'Mendoza']\n"
     ]
    }
   ],
   "source": [
    "# 8) Agregar otra ciudad, pero en la cuarta posición\n",
    "ciudades_del_mundo.insert(3,'Cusco')\n",
    "\n",
    "print(ciudades_del_mundo)"
   ]
  },
  {
   "cell_type": "code",
   "execution_count": null,
   "metadata": {},
   "outputs": [],
   "source": [
    "# 9) Concatenar otra lista a la ya creada\n",
    "\n",
    "ciudades_del_mundo.extend(['Buenos Aires', 'Tokio', 'Londres', 'Viena'])\n",
    "\n",
    "print(ciudades_del_mundo)"
   ]
  },
  {
   "cell_type": "code",
   "execution_count": 111,
   "metadata": {},
   "outputs": [
    {
     "name": "stdout",
     "output_type": "stream",
     "text": [
      "7\n"
     ]
    }
   ],
   "source": [
    "# 10) Encontrar el índice de la ciudad que en el punto 7 agregamos duplicada. ¿Se nota alguna particularidad?\n",
    "\n",
    "print(ciudades_del_mundo.index('Mendoza'))\n",
    "\n",
    "#muestra la ubicacion anerior en la lista "
   ]
  },
  {
   "cell_type": "code",
   "execution_count": 118,
   "metadata": {},
   "outputs": [
    {
     "ename": "ValueError",
     "evalue": "'Paris' is not in list",
     "output_type": "error",
     "traceback": [
      "\u001b[1;31m---------------------------------------------------------------------------\u001b[0m",
      "\u001b[1;31mValueError\u001b[0m                                Traceback (most recent call last)",
      "\u001b[1;32mUntitled-1.ipynb Celda 11\u001b[0m in \u001b[0;36m<cell line: 3>\u001b[1;34m()\u001b[0m\n\u001b[0;32m      <a href='vscode-notebook-cell:Untitled-1.ipynb?jupyter-notebook#X13sdW50aXRsZWQ%3D?line=0'>1</a>\u001b[0m \u001b[39m# 11) ¿Qué pasa si se busca un elemento que no existe?\u001b[39;00m\n\u001b[1;32m----> <a href='vscode-notebook-cell:Untitled-1.ipynb?jupyter-notebook#X13sdW50aXRsZWQ%3D?line=2'>3</a>\u001b[0m \u001b[39mprint\u001b[39m(ciudades_del_mundo\u001b[39m.\u001b[39;49mindex(\u001b[39m'\u001b[39;49m\u001b[39mParis\u001b[39;49m\u001b[39m'\u001b[39;49m))\n",
      "\u001b[1;31mValueError\u001b[0m: 'Paris' is not in list"
     ]
    }
   ],
   "source": [
    "# 11) ¿Qué pasa si se busca un elemento que no existe?\n",
    "\n",
    "print(ciudades_del_mundo.index('Paris'))\n",
    "\n",
    "#Devuelve un error al no encontrarlo en la lista"
   ]
  },
  {
   "cell_type": "code",
   "execution_count": 119,
   "metadata": {},
   "outputs": [
    {
     "name": "stdout",
     "output_type": "stream",
     "text": [
      "['Madrid', 'Helsinki', 'Oslo', 'Cusco', 'Seul', 'Rio de janeiro', 'Moscú', 'Mendoza', 'Buenos Aires', 'Tokio', 'Londres']\n"
     ]
    }
   ],
   "source": [
    "# 12) Eliminar un elemento de la lista\n",
    "\n",
    "ciudades_del_mundo.remove('Lima')\n",
    "\n",
    "print(ciudades_del_mundo)"
   ]
  },
  {
   "cell_type": "code",
   "execution_count": 112,
   "metadata": {},
   "outputs": [
    {
     "ename": "ValueError",
     "evalue": "list.remove(x): x not in list",
     "output_type": "error",
     "traceback": [
      "\u001b[1;31m---------------------------------------------------------------------------\u001b[0m",
      "\u001b[1;31mValueError\u001b[0m                                Traceback (most recent call last)",
      "\u001b[1;32mUntitled-1.ipynb Celda 13\u001b[0m in \u001b[0;36m<cell line: 3>\u001b[1;34m()\u001b[0m\n\u001b[0;32m      <a href='vscode-notebook-cell:Untitled-1.ipynb?jupyter-notebook#X15sdW50aXRsZWQ%3D?line=0'>1</a>\u001b[0m \u001b[39m# 13) ¿Qué pasa si el elemento a eliminar no existe?\u001b[39;00m\n\u001b[1;32m----> <a href='vscode-notebook-cell:Untitled-1.ipynb?jupyter-notebook#X15sdW50aXRsZWQ%3D?line=2'>3</a>\u001b[0m ciudades_del_mundo\u001b[39m.\u001b[39;49mremove(\u001b[39m'\u001b[39;49m\u001b[39mAmsterdam\u001b[39;49m\u001b[39m'\u001b[39;49m)\n\u001b[0;32m      <a href='vscode-notebook-cell:Untitled-1.ipynb?jupyter-notebook#X15sdW50aXRsZWQ%3D?line=4'>5</a>\u001b[0m \u001b[39mprint\u001b[39m(ciudades_del_mundo)\n",
      "\u001b[1;31mValueError\u001b[0m: list.remove(x): x not in list"
     ]
    }
   ],
   "source": [
    "# 13) ¿Qué pasa si el elemento a eliminar no existe?\n",
    "\n",
    "ciudades_del_mundo.remove('Amsterdam')\n",
    "\n",
    "print(ciudades_del_mundo)\n",
    "\n",
    "#Devuelve error al no encontrarlo en la lista"
   ]
  },
  {
   "cell_type": "code",
   "execution_count": 113,
   "metadata": {},
   "outputs": [
    {
     "name": "stdout",
     "output_type": "stream",
     "text": [
      "Viena\n",
      "['Madrid', 'Helsinki', 'Oslo', 'Cusco', 'Seul', 'Rio de janeiro', 'Moscú', 'Mendoza', 'Paris', 'Buenos Aires', 'Tokio', 'Londres']\n"
     ]
    }
   ],
   "source": [
    "# 14) Extraer el úlimo elemento de la lista, guardarlo en una variable e imprimirlo\n",
    "\n",
    "ult_elemento = ciudades_del_mundo.pop()\n",
    "print(ult_elemento)\n",
    "\n",
    "print(ciudades_del_mundo)"
   ]
  },
  {
   "cell_type": "code",
   "execution_count": 120,
   "metadata": {},
   "outputs": [
    {
     "name": "stdout",
     "output_type": "stream",
     "text": [
      "['Madrid', 'Helsinki', 'Oslo', 'Cusco', 'Seul', 'Rio de janeiro', 'Moscú', 'Mendoza', 'Buenos Aires', 'Tokio', 'Londres', 'Madrid', 'Helsinki', 'Oslo', 'Cusco', 'Seul', 'Rio de janeiro', 'Moscú', 'Mendoza', 'Buenos Aires', 'Tokio', 'Londres', 'Madrid', 'Helsinki', 'Oslo', 'Cusco', 'Seul', 'Rio de janeiro', 'Moscú', 'Mendoza', 'Buenos Aires', 'Tokio', 'Londres']\n"
     ]
    }
   ],
   "source": [
    "# 15) Mostrar la lista multiplicada por 4\n",
    "print(ciudades_del_mundo * 3)"
   ]
  },
  {
   "cell_type": "code",
   "execution_count": 59,
   "metadata": {},
   "outputs": [
    {
     "name": "stdout",
     "output_type": "stream",
     "text": [
      "(1, 2, 3, 4, 5, 6, 7, 8, 9, 10, 11, 12, 13, 14, 15, 16, 17, 18, 19, 20)\n"
     ]
    }
   ],
   "source": [
    "# 16) Crear una tupla que contenga los números enteros del 1 al 20\n",
    "\n",
    "tupla = (1,2,3,4,5,6,7,8,9,10,11,12,13,14,15,16,17,18,19,20)\n",
    "print(tupla)"
   ]
  },
  {
   "cell_type": "code",
   "execution_count": 61,
   "metadata": {},
   "outputs": [
    {
     "name": "stdout",
     "output_type": "stream",
     "text": [
      "(11, 12, 13, 14, 15)\n"
     ]
    }
   ],
   "source": [
    "# 17) Imprimir desde el índice 10 al 15 de la tupla\n",
    "\n",
    "print(tupla[10:16])"
   ]
  },
  {
   "cell_type": "code",
   "execution_count": 65,
   "metadata": {},
   "outputs": [
    {
     "name": "stdout",
     "output_type": "stream",
     "text": [
      "True\n",
      "False\n"
     ]
    }
   ],
   "source": [
    "# 18) Evaluar si los números 20 y 30 están dentro de la tupla\n",
    "\n",
    "print(20 in tupla)\n",
    "\n",
    "print(30 in tupla)"
   ]
  },
  {
   "cell_type": "code",
   "execution_count": 121,
   "metadata": {},
   "outputs": [
    {
     "name": "stdout",
     "output_type": "stream",
     "text": [
      "No existe, se agregara a la lista\n",
      "['Madrid', 'Helsinki', 'Oslo', 'Cusco', 'Seul', 'Rio de janeiro', 'Moscú', 'Mendoza', 'Buenos Aires', 'Tokio', 'Londres', 'Paris']\n"
     ]
    }
   ],
   "source": [
    "# 19) Con la lista creada en el punto 1, validar la existencia del elemento 'París' y si no existe, agregarlo. Utilizar una variable e informar lo sucedido.\n",
    "elemento = 'Paris'\n",
    "if ((elemento in ciudades_del_mundo) == True):\n",
    "    print('si existe')\n",
    "else:\n",
    "    print('No existe, se agregara a la lista')\n",
    "    ciudades_del_mundo.append('Paris')\n",
    "    print(ciudades_del_mundo)"
   ]
  },
  {
   "cell_type": "code",
   "execution_count": 75,
   "metadata": {},
   "outputs": [
    {
     "name": "stdout",
     "output_type": "stream",
     "text": [
      "1\n",
      "1\n"
     ]
    }
   ],
   "source": [
    "# 20) Mostrar la cantidad de veces que se encuentra un elemento específico dentro de la tupla y de la lista\n",
    "\n",
    "print(ciudades_del_mundo.count('Argentina'))\n",
    "print(tupla.count(2))"
   ]
  },
  {
   "cell_type": "code",
   "execution_count": 81,
   "metadata": {},
   "outputs": [
    {
     "data": {
      "text/plain": [
       "list"
      ]
     },
     "execution_count": 81,
     "metadata": {},
     "output_type": "execute_result"
    }
   ],
   "source": [
    "# 21) Convertir la tupla en una lista\n",
    "\n",
    "lista = list(tupla)\n",
    "\n",
    "type(lista)"
   ]
  },
  {
   "cell_type": "code",
   "execution_count": 87,
   "metadata": {},
   "outputs": [
    {
     "name": "stdout",
     "output_type": "stream",
     "text": [
      "1\n",
      "2\n",
      "3\n"
     ]
    }
   ],
   "source": [
    "# 22) Desempaquetar solo los primeros 3 elementos de la tupla en 3 variables\n",
    "var1, var2, var3, _, _, _, _, _, _, _, _, _, _, _, _, _, _, _, _, _ = tupla\n",
    "print(var1)\n",
    "print(var2)\n",
    "print(var3)"
   ]
  },
  {
   "cell_type": "code",
   "execution_count": 126,
   "metadata": {},
   "outputs": [],
   "source": [
    "# 23) Crear un diccionario utilizando la lista crada en el punto 1, asignandole la clave \"ciudad\". Agregar tambien otras claves, como puede ser \"Pais\" y \"Continente\".\n",
    "diccionario = {'Ciudades' : ciudades_del_mundo, \n",
    "                'Paises': ['Rusia','Argentina','Brazil','Noruega','Finlandia'],\n",
    "                'Continentes':['Asia','Antártida','Europa','África','Oceanía','América']}"
   ]
  },
  {
   "cell_type": "code",
   "execution_count": 127,
   "metadata": {},
   "outputs": [
    {
     "name": "stdout",
     "output_type": "stream",
     "text": [
      "{'Ciudades': ['Madrid', 'Helsinki', 'Oslo', 'Cusco', 'Seul', 'Rio de janeiro', 'Moscú', 'Mendoza', 'Buenos Aires', 'Tokio', 'Londres', 'Paris'], 'Paises': ['Rusia', 'Argentina', 'Brazil', 'Noruega', 'Finlandia'], 'Continentes': ['Asia', 'Antártida', 'Europa', 'África', 'Oceanía', 'América']}\n"
     ]
    }
   ],
   "source": [
    "# 24) Imprimir las claves del diccionario\n",
    "\n",
    "print(diccionario)"
   ]
  },
  {
   "cell_type": "code",
   "execution_count": 129,
   "metadata": {},
   "outputs": [
    {
     "name": "stdout",
     "output_type": "stream",
     "text": [
      "dict_keys(['Ciudades', 'Paises', 'Continentes'])\n"
     ]
    }
   ],
   "source": [
    "# 25) Imprimir las ciudades a través de su clave\n",
    "\n",
    "print(diccionario.keys())"
   ]
  }
 ],
 "metadata": {
  "kernelspec": {
   "display_name": "Python 3.10.6 64-bit (microsoft store)",
   "language": "python",
   "name": "python3"
  },
  "language_info": {
   "codemirror_mode": {
    "name": "ipython",
    "version": 3
   },
   "file_extension": ".py",
   "mimetype": "text/x-python",
   "name": "python",
   "nbconvert_exporter": "python",
   "pygments_lexer": "ipython3",
   "version": "3.10.6"
  },
  "orig_nbformat": 4,
  "vscode": {
   "interpreter": {
    "hash": "19d762ffc7d2f958e0963c75da0d959adf181f4ac62524ed3e80179df28269f1"
   }
  }
 },
 "nbformat": 4,
 "nbformat_minor": 2
}
