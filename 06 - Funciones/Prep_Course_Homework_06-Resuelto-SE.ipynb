{
 "cells": [
  {
   "cell_type": "code",
   "execution_count": 15,
   "metadata": {},
   "outputs": [
    {
     "data": {
      "text/plain": [
       "True"
      ]
     },
     "execution_count": 15,
     "metadata": {},
     "output_type": "execute_result"
    }
   ],
   "source": [
    "# 1) Crear una función que reciba un número como parámetro y devuelva si True si es primo y False si no lo es\n",
    "\n",
    "def numero_primo(n):\n",
    "    primo = True\n",
    "    for i in range (2,n):\n",
    "        if (n%i == 0):\n",
    "            primo = False\n",
    "            break\n",
    "        return primo \n",
    "\n",
    "numero_primo(7)"
   ]
  },
  {
   "cell_type": "code",
   "execution_count": 29,
   "metadata": {},
   "outputs": [
    {
     "data": {
      "text/plain": [
       "[3, 5, 7, 9]"
      ]
     },
     "execution_count": 29,
     "metadata": {},
     "output_type": "execute_result"
    }
   ],
   "source": [
    "# 2) Utilizando la función del punto 1, realizar otra función que reciba de parámetro una lista de números y devuelva sólo aquellos que son primos en otra lista\n",
    "lista = [2,3,4,5,6,7,8,9,10]\n",
    "def lista_de_primos(lista):\n",
    "    primos =[]\n",
    "    for i in lista:\n",
    "        if (numero_primo(i)):\n",
    "            primos.append(i)\n",
    "    return primos\n",
    "\n",
    "lista_num_primos = lista_de_primos(lista)\n",
    "lista_num_primos\n"
   ]
  },
  {
   "cell_type": "code",
   "execution_count": 74,
   "metadata": {},
   "outputs": [
    {
     "data": {
      "text/plain": [
       "(4, 6)"
      ]
     },
     "execution_count": 74,
     "metadata": {},
     "output_type": "execute_result"
    }
   ],
   "source": [
    "# 3) Crear una función que al recibir una lista de números, devuelva el que más se repite y cuántas veces lo hace. Si hay más de un \"más repetido\", que devuelva cualquiera\n",
    "lista1 = [1,1,1,2,2,2,2,2,3,4,4,4,4,4,4,8]\n",
    "\n",
    "def num_repetidos(lista1):\n",
    "    repite = {}\n",
    "    for i in lista1:\n",
    "        if (i in repite):\n",
    "            repite[i] += 1\n",
    "        else:\n",
    "            repite[i] = 1\n",
    "    from operator import itemgetter\n",
    "    num_mas_repetido = max(repite.items(), key=itemgetter(1))\n",
    "\n",
    "    return num_mas_repetido\n",
    "mas_repetido = num_repetidos(lista1)\n",
    "mas_repetido"
   ]
  },
  {
   "cell_type": "code",
   "execution_count": 91,
   "metadata": {},
   "outputs": [
    {
     "ename": "UnboundLocalError",
     "evalue": "local variable 'el_mayor' referenced before assignment",
     "output_type": "error",
     "traceback": [
      "\u001b[1;31m---------------------------------------------------------------------------\u001b[0m",
      "\u001b[1;31mUnboundLocalError\u001b[0m                         Traceback (most recent call last)",
      "\u001b[1;32mc:\\Users\\nicol\\Desktop\\Python-Prep\\06 - Funciones\\Prep_Course_Homework_06-Resuelto-SE.ipynb Celda 4\u001b[0m in \u001b[0;36m<cell line: 21>\u001b[1;34m()\u001b[0m\n\u001b[0;32m     <a href='vscode-notebook-cell:/c%3A/Users/nicol/Desktop/Python-Prep/06%20-%20Funciones/Prep_Course_Homework_06-Resuelto-SE.ipynb#W3sZmlsZQ%3D%3D?line=16'>17</a>\u001b[0m         el_mayor \u001b[39m=\u001b[39m \u001b[39mmax\u001b[39m([key \u001b[39mfor\u001b[39;00m key, value \u001b[39min\u001b[39;00m repite\u001b[39m.\u001b[39mitems() \u001b[39mif\u001b[39;00m value \u001b[39m==\u001b[39m \u001b[39mmax\u001b[39m(repite\u001b[39m.\u001b[39mvalues())])\n\u001b[0;32m     <a href='vscode-notebook-cell:/c%3A/Users/nicol/Desktop/Python-Prep/06%20-%20Funciones/Prep_Course_Homework_06-Resuelto-SE.ipynb#W3sZmlsZQ%3D%3D?line=18'>19</a>\u001b[0m     \u001b[39mreturn\u001b[39;00m el_mayor\n\u001b[1;32m---> <a href='vscode-notebook-cell:/c%3A/Users/nicol/Desktop/Python-Prep/06%20-%20Funciones/Prep_Course_Homework_06-Resuelto-SE.ipynb#W3sZmlsZQ%3D%3D?line=20'>21</a>\u001b[0m mas_repetido \u001b[39m=\u001b[39m num_repetidos(lista1,\u001b[39mFalse\u001b[39;49;00m)\n\u001b[0;32m     <a href='vscode-notebook-cell:/c%3A/Users/nicol/Desktop/Python-Prep/06%20-%20Funciones/Prep_Course_Homework_06-Resuelto-SE.ipynb#W3sZmlsZQ%3D%3D?line=22'>23</a>\u001b[0m mas_repetido\n",
      "\u001b[1;32mc:\\Users\\nicol\\Desktop\\Python-Prep\\06 - Funciones\\Prep_Course_Homework_06-Resuelto-SE.ipynb Celda 4\u001b[0m in \u001b[0;36mnum_repetidos\u001b[1;34m(lista1, mayor)\u001b[0m\n\u001b[0;32m     <a href='vscode-notebook-cell:/c%3A/Users/nicol/Desktop/Python-Prep/06%20-%20Funciones/Prep_Course_Homework_06-Resuelto-SE.ipynb#W3sZmlsZQ%3D%3D?line=15'>16</a>\u001b[0m \u001b[39mif\u001b[39;00m (mayor):\n\u001b[0;32m     <a href='vscode-notebook-cell:/c%3A/Users/nicol/Desktop/Python-Prep/06%20-%20Funciones/Prep_Course_Homework_06-Resuelto-SE.ipynb#W3sZmlsZQ%3D%3D?line=16'>17</a>\u001b[0m     el_mayor \u001b[39m=\u001b[39m \u001b[39mmax\u001b[39m([key \u001b[39mfor\u001b[39;00m key, value \u001b[39min\u001b[39;00m repite\u001b[39m.\u001b[39mitems() \u001b[39mif\u001b[39;00m value \u001b[39m==\u001b[39m \u001b[39mmax\u001b[39m(repite\u001b[39m.\u001b[39mvalues())])\n\u001b[1;32m---> <a href='vscode-notebook-cell:/c%3A/Users/nicol/Desktop/Python-Prep/06%20-%20Funciones/Prep_Course_Homework_06-Resuelto-SE.ipynb#W3sZmlsZQ%3D%3D?line=18'>19</a>\u001b[0m \u001b[39mreturn\u001b[39;00m el_mayor\n",
      "\u001b[1;31mUnboundLocalError\u001b[0m: local variable 'el_mayor' referenced before assignment"
     ]
    }
   ],
   "source": [
    "# 4) A la función del punto 3, agregar un parámetro más, que permita elegir si se requiere el menor o el mayor de los mas repetidos.\n",
    "lista1 = [1,1,2,2]\n",
    "\n",
    "def num_repetidos(lista1, mayor):\n",
    "    repite = {}\n",
    "    for i in lista1:\n",
    "        if (i in repite):\n",
    "            repite[i] += 1\n",
    "        else:\n",
    "            repite[i] = 1\n",
    "    \n",
    "    #from operator import itemgetter\n",
    "    #num_mas_repetido = max(repite.items(), key=itemgetter(1))\n",
    "    #num_mas_repetido = max(repite.values()) #keys=repite.get)\n",
    "\n",
    "    if (mayor):\n",
    "        el_mayor = max([key for key, value in repite.items() if value == max(repite.values())])\n",
    "\n",
    "    return el_mayor\n",
    "\n",
    "mas_repetido = num_repetidos(lista1,True)\n",
    "\n",
    "mas_repetido"
   ]
  },
  {
   "cell_type": "code",
   "execution_count": 97,
   "metadata": {},
   "outputs": [
    {
     "name": "stdout",
     "output_type": "stream",
     "text": [
      "Convertir 1 grado CELSIUS a CELSIUS 1\n",
      "Convertir 1 grado CELSIUS a FARENHEIT 33.8\n",
      "Convertir 1 grado CELSIUS a KELVIN 274.15\n",
      "Convertir 1 grado FARENHEIT a FARENHEIT 1\n",
      "Convertir 1 grado FARENHEIT a CELSIUS -17.22222222222222\n",
      "Convertir 1 grado FARENHEIT a kelvin 255.92777777777775\n",
      "Convertir 1 grado KELVIN a KELVIN 1\n",
      "Convertir 1 grado KELVIN a FARENHEIT -457.87\n",
      "Convertir 1 grado KELVIN a CELSIUS -272.15\n"
     ]
    }
   ],
   "source": [
    "# 5) Crear una función que convierta entre grados Celsius, Farenheit y Kelvin<br>\n",
    "# Fórmula 1\t: (°C × 9/5) + 32 = °F<br>\n",
    "# Fórmula 2\t: °C + 273.15 = °K<br>\n",
    "# Debe recibir 3 parámetros: el valor, la medida de orígen y la medida de destino\n",
    "\n",
    "def conversion_grados(valor, origen, destino):\n",
    "    if (origen == 'celsius'):\n",
    "        if (destino == 'celsius'):\n",
    "            num_destino = valor\n",
    "        elif (destino == 'farenheit'):\n",
    "            num_destino = (valor * 9 / 5) + 32\n",
    "        elif (destino == 'kelvin'):\n",
    "            num_destino = valor + 273.15\n",
    "        \n",
    "    elif (origen == 'farenheit'):\n",
    "        if (destino == 'celsius'):\n",
    "            num_destino = (valor - 32) * 5 / 9\n",
    "        elif (destino == 'farenheit'):\n",
    "            num_destino = valor\n",
    "        elif (destino == 'kelvin'):\n",
    "            num_destino = ((valor - 32) * 5 / 9) + 273.15\n",
    "\n",
    "    elif (origen == 'kelvin'):\n",
    "        if (destino == 'celsius'):\n",
    "            num_destino = valor - 273.15\n",
    "        elif (destino == 'farenheit'):\n",
    "            num_destino = ((valor - 273.15) * 9 / 5) + 32\n",
    "        elif (destino == 'kelvin'):\n",
    "            num_destino = valor\n",
    "\n",
    "    else:\n",
    "        print('Parámetro de Origen incorrecto')\n",
    "    return num_destino\n",
    "\n",
    "print('Convertir 1 grado CELSIUS a CELSIUS', conversion_grados(1,'celsius', 'celsius'))\n",
    "print('Convertir 1 grado CELSIUS a FARENHEIT', conversion_grados(1,'celsius', 'farenheit'))\n",
    "print('Convertir 1 grado CELSIUS a KELVIN', conversion_grados(1,'celsius', 'kelvin'))\n",
    "print('Convertir 1 grado FARENHEIT a FARENHEIT', conversion_grados(1,'farenheit', 'farenheit'))\n",
    "print('Convertir 1 grado FARENHEIT a CELSIUS', conversion_grados(1,'farenheit', 'celsius'))\n",
    "print('Convertir 1 grado FARENHEIT a kelvin', conversion_grados(1,'farenheit', 'kelvin'))\n",
    "print('Convertir 1 grado KELVIN a KELVIN', conversion_grados(1,'kelvin', 'kelvin'))\n",
    "print('Convertir 1 grado KELVIN a FARENHEIT', conversion_grados(1,'kelvin', 'farenheit'))\n",
    "print('Convertir 1 grado KELVIN a CELSIUS', conversion_grados(1,'kelvin', 'celsius'))\n",
    "\n",
    "\n",
    "\n"
   ]
  },
  {
   "cell_type": "code",
   "execution_count": 98,
   "metadata": {},
   "outputs": [
    {
     "name": "stdout",
     "output_type": "stream",
     "text": [
      "1 grado celsius a celsius : 1\n",
      "1 grado celsius a kelvin : 274.15\n",
      "1 grado celsius a farenheit : 33.8\n",
      "1 grado kelvin a celsius : -272.15\n",
      "1 grado kelvin a kelvin : 1\n",
      "1 grado kelvin a farenheit : -457.87\n",
      "1 grado farenheit a celsius : -17.22222222222222\n",
      "1 grado farenheit a kelvin : 255.92777777777775\n",
      "1 grado farenheit a farenheit : 1\n"
     ]
    }
   ],
   "source": [
    "# 6) Iterando una lista con los tres valores posibles de temperatura que recibe la función del punto 5, hacer un print para cada combinación de los mismos:\n",
    "temperaturas = ['celsius','kelvin','farenheit']\n",
    "for i in range(0,3):\n",
    "    for j in range(0,3):\n",
    "        print('1 grado', temperaturas[i], 'a', temperaturas[j],':', conversion_grados(1, temperaturas[i], temperaturas[j]))"
   ]
  },
  {
   "cell_type": "code",
   "execution_count": 100,
   "metadata": {},
   "outputs": [
    {
     "name": "stdout",
     "output_type": "stream",
     "text": [
      "5040\n"
     ]
    }
   ],
   "source": [
    "# 7) Armar una función que devuelva el factorial de un número. Tener en cuenta que el usuario puede equivocarse y enviar de parámetro un número no entero o negativo\n",
    "def factorial(numero):\n",
    "    if(type(numero) != int):\n",
    "        return 'El numero debe ser un entero'\n",
    "    if(numero < 0):\n",
    "        return 'El numero debe ser pisitivo'\n",
    "    if (numero > 1):\n",
    "        numero = numero * factorial(numero - 1)\n",
    "    return numero\n",
    "print(factorial(7))"
   ]
  }
 ],
 "metadata": {
  "kernelspec": {
   "display_name": "Python 3.10.6 64-bit (microsoft store)",
   "language": "python",
   "name": "python3"
  },
  "language_info": {
   "codemirror_mode": {
    "name": "ipython",
    "version": 3
   },
   "file_extension": ".py",
   "mimetype": "text/x-python",
   "name": "python",
   "nbconvert_exporter": "python",
   "pygments_lexer": "ipython3",
   "version": "3.10.6"
  },
  "orig_nbformat": 4,
  "vscode": {
   "interpreter": {
    "hash": "19d762ffc7d2f958e0963c75da0d959adf181f4ac62524ed3e80179df28269f1"
   }
  }
 },
 "nbformat": 4,
 "nbformat_minor": 2
}
