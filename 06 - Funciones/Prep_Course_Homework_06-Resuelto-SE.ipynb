{
 "cells": [
  {
   "cell_type": "code",
   "execution_count": 15,
   "metadata": {},
   "outputs": [
    {
     "data": {
      "text/plain": [
       "True"
      ]
     },
     "execution_count": 15,
     "metadata": {},
     "output_type": "execute_result"
    }
   ],
   "source": [
    "# 1) Crear una función que reciba un número como parámetro y devuelva si True si es primo y False si no lo es\n",
    "\n",
    "def numero_primo(n):\n",
    "    primo = True\n",
    "    for i in range (2,n):\n",
    "        if (n%i == 0):\n",
    "            primo = False\n",
    "            break\n",
    "        return primo \n",
    "\n",
    "numero_primo(7)"
   ]
  },
  {
   "cell_type": "code",
   "execution_count": 29,
   "metadata": {},
   "outputs": [
    {
     "data": {
      "text/plain": [
       "[3, 5, 7, 9]"
      ]
     },
     "execution_count": 29,
     "metadata": {},
     "output_type": "execute_result"
    }
   ],
   "source": [
    "# 2) Utilizando la función del punto 1, realizar otra función que reciba de parámetro una lista de números y devuelva sólo aquellos que son primos en otra lista\n",
    "lista = [2,3,4,5,6,7,8,9,10]\n",
    "def lista_de_primos(lista):\n",
    "    primos =[]\n",
    "    for i in lista:\n",
    "        if (numero_primo(i)):\n",
    "            primos.append(i)\n",
    "    return primos\n",
    "\n",
    "lista_num_primos = lista_de_primos(lista)\n",
    "lista_num_primos\n"
   ]
  },
  {
   "cell_type": "code",
   "execution_count": 36,
   "metadata": {},
   "outputs": [
    {
     "name": "stdout",
     "output_type": "stream",
     "text": [
      "0\n",
      "1\n",
      "2\n",
      "3\n",
      "4\n",
      "5\n",
      "6\n"
     ]
    },
    {
     "data": {
      "text/plain": [
       "7"
      ]
     },
     "execution_count": 36,
     "metadata": {},
     "output_type": "execute_result"
    }
   ],
   "source": [
    "# 3) Crear una función que al recibir una lista de números, devuelva el que más se repite y cuántas veces lo hace. Si hay más de un \"más repetido\", que devuelva cualquiera\n",
    "lista = [1,1,2,3,4,4,8]\n",
    "\n",
    "def num_repetidos(lista):\n",
    "    n = 0\n",
    "    for i in lista:\n",
    "     \n",
    "\n",
    "num_repetidos(lista)"
   ]
  }
 ],
 "metadata": {
  "kernelspec": {
   "display_name": "Python 3.10.6 64-bit (microsoft store)",
   "language": "python",
   "name": "python3"
  },
  "language_info": {
   "codemirror_mode": {
    "name": "ipython",
    "version": 3
   },
   "file_extension": ".py",
   "mimetype": "text/x-python",
   "name": "python",
   "nbconvert_exporter": "python",
   "pygments_lexer": "ipython3",
   "version": "3.10.6"
  },
  "orig_nbformat": 4,
  "vscode": {
   "interpreter": {
    "hash": "19d762ffc7d2f958e0963c75da0d959adf181f4ac62524ed3e80179df28269f1"
   }
  }
 },
 "nbformat": 4,
 "nbformat_minor": 2
}
