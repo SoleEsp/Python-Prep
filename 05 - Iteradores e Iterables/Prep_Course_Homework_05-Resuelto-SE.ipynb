{
 "cells": [
  {
   "cell_type": "code",
   "execution_count": 32,
   "metadata": {},
   "outputs": [
    {
     "name": "stdout",
     "output_type": "stream",
     "text": [
      "[-15, -14, -13, -12, -11, -10, -9, -8, -7, -6, -5, -4, -3, -2, -1]\n"
     ]
    }
   ],
   "source": [
    "# 1) A partir de una lista vacía, utilizar un ciclo while para cargar allí números negativos del -15 al -1\n",
    "lista = []\n",
    "n = -15\n",
    "while (n < 0):\n",
    "    lista.append(n)\n",
    "    n+=1\n",
    "print(lista)"
   ]
  },
  {
   "cell_type": "code",
   "execution_count": 50,
   "metadata": {},
   "outputs": [
    {
     "name": "stdout",
     "output_type": "stream",
     "text": [
      "-14\n",
      "-12\n",
      "-10\n",
      "-8\n",
      "-6\n",
      "-4\n",
      "-2\n"
     ]
    }
   ],
   "source": [
    "# 2) ¿Con un ciclo while sería posible recorrer la lista para imprimir sólo los números pares?\n",
    "lista = [-15, -14, -13, -12, -11, -10, -9, -8, -7, -6, -5, -4, -3, -2, -1]\n",
    "n = 0\n",
    "while (n < len(lista)):\n",
    "    if (lista[n]%2 == 0):\n",
    "        print(lista[n])\n",
    "    n+= 1"
   ]
  },
  {
   "cell_type": "code",
   "execution_count": 38,
   "metadata": {},
   "outputs": [
    {
     "name": "stdout",
     "output_type": "stream",
     "text": [
      "-14\n",
      "-12\n",
      "-10\n",
      "-8\n",
      "-6\n",
      "-4\n",
      "-2\n"
     ]
    }
   ],
   "source": [
    "# 3) Resolver el punto anterior sin utilizar un ciclo while\n",
    "for i in lista:\n",
    "    if (lista[i] % 2 == 0):\n",
    "        print(lista[i])"
   ]
  },
  {
   "cell_type": "code",
   "execution_count": 52,
   "metadata": {},
   "outputs": [
    {
     "name": "stdout",
     "output_type": "stream",
     "text": [
      "-15\n",
      "-14\n",
      "-13\n"
     ]
    }
   ],
   "source": [
    "# 4) Utilizar el iterable para recorrer sólo los primeros 3 elementos\n",
    "for i in lista[:3]:\n",
    "    print(lista[i])"
   ]
  },
  {
   "cell_type": "code",
   "execution_count": 51,
   "metadata": {},
   "outputs": [
    {
     "name": "stdout",
     "output_type": "stream",
     "text": [
      "0 -15\n",
      "1 -14\n",
      "2 -13\n",
      "3 -12\n",
      "4 -11\n",
      "5 -10\n",
      "6 -9\n",
      "7 -8\n",
      "8 -7\n",
      "9 -6\n",
      "10 -5\n",
      "11 -4\n",
      "12 -3\n",
      "13 -2\n",
      "14 -1\n"
     ]
    }
   ],
   "source": [
    "# 5) Utilizar la función **enumerate** para obtener dentro del iterable, tambien el índice al que corresponde el elemento\n",
    "for i,n in enumerate(lista):\n",
    "    print(i,n)"
   ]
  },
  {
   "cell_type": "code",
   "execution_count": null,
   "metadata": {},
   "outputs": [],
   "source": [
    "# 6) Dada la siguiente lista de números enteros entre 1 y 20, crear un ciclo donde se completen los valores faltantes: lista = [1,2,5,7,8,10,13,14,15,17,20]\n",
    "lista = [1,2,5,7,8,10,13,14,15,17,20]\n",
    "\n",
    "n = 1\n",
    "while (n <= 20):\n",
    "    if (lista[n])\n"
   ]
  }
 ],
 "metadata": {
  "kernelspec": {
   "display_name": "Python 3.10.6 64-bit (microsoft store)",
   "language": "python",
   "name": "python3"
  },
  "language_info": {
   "codemirror_mode": {
    "name": "ipython",
    "version": 3
   },
   "file_extension": ".py",
   "mimetype": "text/x-python",
   "name": "python",
   "nbconvert_exporter": "python",
   "pygments_lexer": "ipython3",
   "version": "3.10.6"
  },
  "orig_nbformat": 4,
  "vscode": {
   "interpreter": {
    "hash": "19d762ffc7d2f958e0963c75da0d959adf181f4ac62524ed3e80179df28269f1"
   }
  }
 },
 "nbformat": 4,
 "nbformat_minor": 2
}
