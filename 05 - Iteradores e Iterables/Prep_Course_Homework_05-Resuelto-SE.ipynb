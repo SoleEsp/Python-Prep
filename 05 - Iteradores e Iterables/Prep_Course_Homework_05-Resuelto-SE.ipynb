{
 "cells": [
  {
   "cell_type": "code",
   "execution_count": 8,
   "metadata": {},
   "outputs": [
    {
     "name": "stdout",
     "output_type": "stream",
     "text": [
      "[-1, -2, -3, -4, -5, -6, -7, -8, -9, -10, -11, -12, -13, -14, -15]\n"
     ]
    }
   ],
   "source": [
    "# 1) A partir de una lista vacía, utilizar un ciclo while para cargar allí números negativos del -15 al -1\n",
    "lista = []\n",
    "n = -1\n",
    "while (n > -16):\n",
    "    lista.append(n)\n",
    "    n-=1\n",
    "print(lista)"
   ]
  },
  {
   "cell_type": "code",
   "execution_count": 14,
   "metadata": {},
   "outputs": [],
   "source": [
    "# 2) ¿Con un ciclo while sería posible recorrer la lista para imprimir sólo los números pares?\n",
    "n = -1\n"
   ]
  }
 ],
 "metadata": {
  "kernelspec": {
   "display_name": "Python 3.10.6 64-bit (microsoft store)",
   "language": "python",
   "name": "python3"
  },
  "language_info": {
   "codemirror_mode": {
    "name": "ipython",
    "version": 3
   },
   "file_extension": ".py",
   "mimetype": "text/x-python",
   "name": "python",
   "nbconvert_exporter": "python",
   "pygments_lexer": "ipython3",
   "version": "3.10.6"
  },
  "orig_nbformat": 4,
  "vscode": {
   "interpreter": {
    "hash": "19d762ffc7d2f958e0963c75da0d959adf181f4ac62524ed3e80179df28269f1"
   }
  }
 },
 "nbformat": 4,
 "nbformat_minor": 2
}
