{
 "cells": [
  {
   "cell_type": "code",
   "execution_count": 32,
   "metadata": {},
   "outputs": [
    {
     "name": "stdout",
     "output_type": "stream",
     "text": [
      "[-15, -14, -13, -12, -11, -10, -9, -8, -7, -6, -5, -4, -3, -2, -1]\n"
     ]
    }
   ],
   "source": [
    "# 1) A partir de una lista vacía, utilizar un ciclo while para cargar allí números negativos del -15 al -1\n",
    "lista = []\n",
    "n = -15\n",
    "while (n < 0):\n",
    "    lista.append(n)\n",
    "    n+=1\n",
    "print(lista)"
   ]
  },
  {
   "cell_type": "code",
   "execution_count": 50,
   "metadata": {},
   "outputs": [
    {
     "name": "stdout",
     "output_type": "stream",
     "text": [
      "-14\n",
      "-12\n",
      "-10\n",
      "-8\n",
      "-6\n",
      "-4\n",
      "-2\n"
     ]
    }
   ],
   "source": [
    "# 2) ¿Con un ciclo while sería posible recorrer la lista para imprimir sólo los números pares?\n",
    "lista = [-15, -14, -13, -12, -11, -10, -9, -8, -7, -6, -5, -4, -3, -2, -1]\n",
    "n = 0\n",
    "while (n < len(lista)):\n",
    "    if (lista[n]%2 == 0):\n",
    "        print(lista[n])\n",
    "    n+= 1"
   ]
  },
  {
   "cell_type": "code",
   "execution_count": 38,
   "metadata": {},
   "outputs": [
    {
     "name": "stdout",
     "output_type": "stream",
     "text": [
      "-14\n",
      "-12\n",
      "-10\n",
      "-8\n",
      "-6\n",
      "-4\n",
      "-2\n"
     ]
    }
   ],
   "source": [
    "# 3) Resolver el punto anterior sin utilizar un ciclo while\n",
    "for i in lista:\n",
    "    if (lista[i] % 2 == 0):\n",
    "        print(lista[i])"
   ]
  },
  {
   "cell_type": "code",
   "execution_count": 52,
   "metadata": {},
   "outputs": [
    {
     "name": "stdout",
     "output_type": "stream",
     "text": [
      "-15\n",
      "-14\n",
      "-13\n"
     ]
    }
   ],
   "source": [
    "# 4) Utilizar el iterable para recorrer sólo los primeros 3 elementos\n",
    "for i in lista[:3]:\n",
    "    print(lista[i])"
   ]
  },
  {
   "cell_type": "code",
   "execution_count": 51,
   "metadata": {},
   "outputs": [
    {
     "name": "stdout",
     "output_type": "stream",
     "text": [
      "0 -15\n",
      "1 -14\n",
      "2 -13\n",
      "3 -12\n",
      "4 -11\n",
      "5 -10\n",
      "6 -9\n",
      "7 -8\n",
      "8 -7\n",
      "9 -6\n",
      "10 -5\n",
      "11 -4\n",
      "12 -3\n",
      "13 -2\n",
      "14 -1\n"
     ]
    }
   ],
   "source": [
    "# 5) Utilizar la función **enumerate** para obtener dentro del iterable, tambien el índice al que corresponde el elemento\n",
    "for i,n in enumerate(lista):\n",
    "    print(i,n)"
   ]
  },
  {
   "cell_type": "code",
   "execution_count": 16,
   "metadata": {},
   "outputs": [
    {
     "name": "stdout",
     "output_type": "stream",
     "text": [
      "[1, 2, 3, 4, 5, 6, 7, 8, 9, 10, 11, 12, 13, 14, 15, 16, 17, 18, 19, 20]\n"
     ]
    }
   ],
   "source": [
    "# 6) Dada la siguiente lista de números enteros entre 1 y 20, crear un ciclo donde se completen los valores faltantes: lista = [1,2,5,7,8,10,13,14,15,17,20]\n",
    "lista1 = [1,2,5,7,8,10,13,14,15,17,20]\n",
    "\n",
    "n = 1\n",
    "while (n <= 20):\n",
    "    if (not(n in lista1)):\n",
    "        lista1.insert(n-1,n)\n",
    "    n += 1\n",
    "print(lista1)"
   ]
  },
  {
   "cell_type": "code",
   "execution_count": 20,
   "metadata": {},
   "outputs": [
    {
     "name": "stdout",
     "output_type": "stream",
     "text": [
      "[0, 1, 1, 2, 3, 5, 8, 13, 21, 34, 55, 89, 144, 233, 377, 610, 987, 1597, 2584, 4181, 6765, 10946, 17711, 28657, 46368, 75025, 121393, 196418, 317811, 514229]\n"
     ]
    }
   ],
   "source": [
    "# 7) La sucesión de Fibonacci es un listado de números que sigue la fórmula: <br>\n",
    "# n<sub>0</sub> = 0<br>\n",
    "# n<sub>1</sub> = 1<br>\n",
    "# n<sub>i</sub> = n<sub>i-1</sub> + n<sub>i-2</sub><br>\n",
    "# Crear una lista con los primeros treinta números de la sucesión.<br>\n",
    "fibonacci = [0,1]\n",
    "n = 2\n",
    "while (n < 30):\n",
    "    fibonacci.append(fibonacci[n-1]+fibonacci[n-2])\n",
    "    n+=1\n",
    "print(fibonacci)"
   ]
  },
  {
   "cell_type": "code",
   "execution_count": 21,
   "metadata": {},
   "outputs": [
    {
     "name": "stdout",
     "output_type": "stream",
     "text": [
      "1346268\n"
     ]
    }
   ],
   "source": [
    "# 8) Realizar la suma de todos elementos de la lista del punto anterior\n",
    "print(sum(fibonacci))"
   ]
  },
  {
   "cell_type": "code",
   "execution_count": 22,
   "metadata": {},
   "outputs": [
    {
     "name": "stdout",
     "output_type": "stream",
     "text": [
      "1.6176470588235294\n",
      "1.6181818181818182\n",
      "1.6179775280898876\n",
      "1.6180555555555556\n",
      "1.6180257510729614\n"
     ]
    }
   ],
   "source": [
    "# 9) La proporción aurea se expresa con una proporción matemática que nace el número irracional Phi= 1,618… que los griegos llamaron número áureo. El cuál se puede aproximar con la sucesión de Fibonacci. Con la lista del ejercicio anterior, imprimir el cociente de los últimos 5 pares de dos números contiguos:<br>\n",
    "# Donde i es la cantidad total de elementos<br>\n",
    "# n<sub>i-1</sub> / n<sub>i</sub><br>\n",
    "# n<sub>i-2</sub> / n<sub>i-1</sub><br>\n",
    "# n<sub>i-3</sub> / n<sub>i-2</sub><br>\n",
    "# n<sub>i-4</sub> / n<sub>i-3</sub><br>\n",
    "# n<sub>i-5</sub> / n<sub>i-4</sub><br>\n",
    "\n",
    "m = 15\n",
    "n = m - 5\n",
    "while(n < m):\n",
    "    print(fibonacci[n]/fibonacci[n-1])\n",
    "    n += 1"
   ]
  },
  {
   "cell_type": "code",
   "execution_count": 28,
   "metadata": {},
   "outputs": [
    {
     "name": "stdout",
     "output_type": "stream",
     "text": [
      "7\n",
      "21\n",
      "39\n",
      "60\n",
      "67\n"
     ]
    }
   ],
   "source": [
    "# 10) A partir de la variable cadena ya dada, mostrar en qué posiciones aparece la letra \"n\"<br>\n",
    "\n",
    "cadena = 'Hola Mundo. Esto es una practica del lenguaje de programación Python'\n",
    "for i,n in enumerate(cadena):\n",
    "    if (cadena[i] == 'n'):\n",
    "        print(i)"
   ]
  },
  {
   "cell_type": "code",
   "execution_count": 31,
   "metadata": {},
   "outputs": [
    {
     "name": "stdout",
     "output_type": "stream",
     "text": [
      "Ciudades\n",
      "Paises\n",
      "Continentes\n"
     ]
    }
   ],
   "source": [
    "# 11) Crear un diccionario e imprimir sus claves utilizando un iterador\n",
    "diccionario = {'Ciudades' : ['Madrid', 'Helsinki', 'Oslo', 'Cusco', 'Seul', 'Moscú', 'Mendoza', 'Tokio', 'Londres', 'Paris'], \n",
    "                'Paises': ['Rusia','Argentina','Brazil','Noruega','Finlandia'],\n",
    "                'Continentes':['Asia','Antártida','Europa','África','Oceanía','América']}\n",
    "\n",
    "for i in diccionario:\n",
    "    print(i)"
   ]
  },
  {
   "cell_type": "code",
   "execution_count": 37,
   "metadata": {},
   "outputs": [
    {
     "name": "stdout",
     "output_type": "stream",
     "text": [
      "<class 'list'>\n",
      "H\n",
      "o\n",
      "l\n",
      "a\n",
      " \n",
      "M\n",
      "u\n",
      "n\n",
      "d\n",
      "o\n",
      ".\n",
      " \n",
      "E\n",
      "s\n",
      "t\n",
      "o\n",
      " \n",
      "e\n",
      "s\n",
      " \n",
      "u\n",
      "n\n",
      "a\n",
      " \n",
      "p\n",
      "r\n",
      "a\n",
      "c\n",
      "t\n",
      "i\n",
      "c\n",
      "a\n",
      " \n",
      "d\n",
      "e\n",
      "l\n",
      " \n",
      "l\n",
      "e\n",
      "n\n",
      "g\n",
      "u\n",
      "a\n",
      "j\n",
      "e\n",
      " \n",
      "d\n",
      "e\n",
      " \n",
      "p\n",
      "r\n",
      "o\n",
      "g\n",
      "r\n",
      "a\n",
      "m\n",
      "a\n",
      "c\n",
      "i\n",
      "ó\n",
      "n\n",
      " \n",
      "P\n",
      "y\n",
      "t\n",
      "h\n",
      "o\n",
      "n\n"
     ]
    }
   ],
   "source": [
    "# 12) Convertir en una lista la variable \"cadena\" del punto 10 y luego recorrerla con un iterador \n",
    "\n",
    "cadena2 = list(cadena)\n",
    "print(type(cadena2))\n",
    "\n",
    "iterador = iter(cadena2)\n",
    "\n",
    "for i in cadena2:\n",
    "    print(next(iterador))"
   ]
  },
  {
   "cell_type": "code",
   "execution_count": 42,
   "metadata": {},
   "outputs": [
    {
     "name": "stdout",
     "output_type": "stream",
     "text": [
      "((1, 'uno'), (2, 'dos'), (3, 'tres'), (4, 'cuatro'), (5, 'cinco'))\n"
     ]
    }
   ],
   "source": [
    "# 13) Crear dos listas y unirlas en una tupla utilizando la función zip\n",
    "lista1 = [1,2,3,4,5]\n",
    "lista2 = ['uno','dos','tres','cuatro','cinco']\n",
    "\n",
    "lista3 = zip(lista1,lista2)\n",
    "\n",
    "print(tuple(lista3))"
   ]
  },
  {
   "cell_type": "code",
   "execution_count": 46,
   "metadata": {},
   "outputs": [
    {
     "name": "stdout",
     "output_type": "stream",
     "text": [
      "[21, 35, 42, 56, 63, 84, 91]\n"
     ]
    }
   ],
   "source": [
    "# 14) A partir de la siguiente lista de números, crear una nueva sólo si el número es divisible por 7<br>\n",
    "lis = [18,21,29,32,35,42,56,60,63,71,84,90,91,100]\n",
    "divi7 = []\n",
    "\n",
    "for i in lis:\n",
    "    if (i%7 == 0):\n",
    "        divi7.append(i)\n",
    "print(divi7)"
   ]
  },
  {
   "cell_type": "code",
   "execution_count": 80,
   "metadata": {},
   "outputs": [
    {
     "name": "stdout",
     "output_type": "stream",
     "text": [
      "12\n"
     ]
    }
   ],
   "source": [
    "# 15) A partir de la lista de a continuación, contar la cantidad total de elementos que contiene, teniendo en cuenta que un elemento de la lista podría ser otra lista:<br>\n",
    "lis = [[1,2,3,4],'rojo','verde',[True,False,False],['uno','dos','tres']]\n",
    "\n",
    "total = 0\n",
    "for i in lis:\n",
    "    if (type(i)== list):\n",
    "        total += len(i)\n",
    "    else:\n",
    "        total +=1\n",
    "print(total)"
   ]
  },
  {
   "cell_type": "code",
   "execution_count": 83,
   "metadata": {},
   "outputs": [
    {
     "name": "stdout",
     "output_type": "stream",
     "text": [
      "[[1, 2, 3, 4], 'rojo', 'verde', [True, False, False], ['uno', 'dos', 'tres'], ['r', 'o', 'j', 'o'], ['v', 'e', 'r', 'd', 'e']]\n"
     ]
    }
   ],
   "source": [
    "# 16) Tomar la lista del punto anterior y convertir cada elemento en una lista si no lo es\n",
    "lis = [[1,2,3,4],'rojo','verde',[True,False,False],['uno','dos','tres']]\n",
    "for i in lis:\n",
    "    if(type(i) != list):\n",
    "        lis.append(list(i))\n",
    "print(lis)"
   ]
  }
 ],
 "metadata": {
  "kernelspec": {
   "display_name": "Python 3.10.6 64-bit (microsoft store)",
   "language": "python",
   "name": "python3"
  },
  "language_info": {
   "codemirror_mode": {
    "name": "ipython",
    "version": 3
   },
   "file_extension": ".py",
   "mimetype": "text/x-python",
   "name": "python",
   "nbconvert_exporter": "python",
   "pygments_lexer": "ipython3",
   "version": "3.10.6"
  },
  "orig_nbformat": 4,
  "vscode": {
   "interpreter": {
    "hash": "19d762ffc7d2f958e0963c75da0d959adf181f4ac62524ed3e80179df28269f1"
   }
  }
 },
 "nbformat": 4,
 "nbformat_minor": 2
}
