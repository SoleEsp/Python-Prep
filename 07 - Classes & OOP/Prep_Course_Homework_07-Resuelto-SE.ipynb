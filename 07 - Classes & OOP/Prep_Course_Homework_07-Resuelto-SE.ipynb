{
 "cells": [
  {
   "cell_type": "code",
   "execution_count": null,
   "metadata": {},
   "outputs": [],
   "source": [
    "# 1) Crear la clase vehículo que contenga los atributos:<br>\n",
    "# Color<br>\n",
    "# Si es moto, auto, camioneta ó camión<br>\n",
    "# Cilindrada del motor\n",
    "\n",
    "class vehiculo:\n",
    "    def __init__(self,color,tipo_de_movil,cilindrada):\n",
    "        self.color = color\n",
    "        self.tipo_de_movil = tipo_de_movil\n",
    "        self.cilindrada = cilindrada\n"
   ]
  },
  {
   "cell_type": "code",
   "execution_count": 19,
   "metadata": {},
   "outputs": [],
   "source": [
    "# 2) A la clase Vehiculo creada en el punto 1, agregar los siguientes métodos:<br>\n",
    "# Acelerar<br>\n",
    "# Frenar<br>\n",
    "# Doblar<br>\n",
    "\n",
    "class vehiculo:\n",
    "    def __init__(self,color,tipo_de_movil,cilindrada):\n",
    "        self.color = color\n",
    "        self.tipo_de_movil = tipo_de_movil\n",
    "        self.cilindrada = cilindrada\n",
    "        self.velocidad = 0\n",
    "        self.direccion = 0\n",
    "    \n",
    "    def Acelerar(self,acel):\n",
    "        self.velocidad += acel\n",
    "    \n",
    "    def Frenar(self,fre):\n",
    "        self.velocidad -= fre\n",
    "    \n",
    "    def Doblar(self, direc):\n",
    "        self.direccion = direc\n",
    "\n"
   ]
  },
  {
   "cell_type": "code",
   "execution_count": 20,
   "metadata": {},
   "outputs": [],
   "source": [
    "# 3) Instanciar 3 objetos de la clase vehículo y ejecutar sus métodos, probar luego el resultado\n",
    "vehiculo1 = vehiculo('verde','moto',1)\n",
    "vehiculo2 = vehiculo('negro','auto',2.0)\n",
    "vehiculo3 = vehiculo('blanco','camioneta',3)\n",
    "\n",
    "vehiculo1.Acelerar(40)\n",
    "vehiculo1.Frenar(20)\n",
    "vehiculo1.Doblar(10)\n",
    "vehiculo2.Acelerar(50)\n",
    "vehiculo2.Frenar(40)\n",
    "vehiculo2.Doblar(30)"
   ]
  },
  {
   "cell_type": "code",
   "execution_count": 30,
   "metadata": {},
   "outputs": [
    {
     "name": "stdout",
     "output_type": "stream",
     "text": [
      "La velocidad es de  40 con direccion  0\n",
      "Tipo de vehiculo:  moto , Color:  verde , Cilindrada:  1\n"
     ]
    }
   ],
   "source": [
    "# 4) Agregar a la clase Vehiculo, un método que muestre su estado, es decir, a que velocidad se encuentra y su dirección. Y otro método que muestre color, tipo y cilindrada\n",
    "class vehiculo:\n",
    "    def __init__(self,color,tipo_de_movil,cilindrada):\n",
    "        self.color = color\n",
    "        self.tipo_de_movil = tipo_de_movil\n",
    "        self.cilindrada = cilindrada\n",
    "        self.velocidad = 0\n",
    "        self.direccion = 0\n",
    "    \n",
    "    def Acelerar(self,acel):\n",
    "        self.velocidad += acel\n",
    "    \n",
    "    def Frenar(self,fre):\n",
    "        self.velocidad -= fre\n",
    "    \n",
    "    def Doblar(self, direc):\n",
    "        self.direccion = direc\n",
    "\n",
    "    def Estado(self):\n",
    "        print('La velocidad es de ', self.velocidad,'con direccion ', self.direccion)\n",
    "\n",
    "    def Descripcion(self):\n",
    "        print('Tipo de vehiculo: ',self.tipo_de_movil,',','Color: ', self.color,',','Cilindrada: ',self.cilindrada)\n",
    "\n",
    "vehiculo1 = vehiculo('verde','moto',1)\n",
    "vehiculo1.Acelerar(40)\n",
    "vehiculo1.Estado()\n",
    "vehiculo1.Descripcion()"
   ]
  },
  {
   "cell_type": "code",
   "execution_count": 39,
   "metadata": {},
   "outputs": [
    {
     "data": {
      "text/plain": [
       "6"
      ]
     },
     "execution_count": 39,
     "metadata": {},
     "output_type": "execute_result"
    }
   ],
   "source": [
    "# 5) Crear una clase que permita utilizar las funciones creadas en la práctica del módulo 6<br>\n",
    "# Verificar Primo<br>\n",
    "# Valor modal<br>\n",
    "# Conversión grados<br>\n",
    "# Factorial<br>\n",
    "\n",
    "class Funciones: \n",
    "    def __init__(self) -> None:\n",
    "        pass\n",
    "\n",
    "    def numero_primo(self, n):\n",
    "        primo = True\n",
    "        for i in range (2,n):\n",
    "            if (n%i == 0):\n",
    "                primo = False\n",
    "                break\n",
    "            return primo \n",
    "\n",
    "    def conversion_grados(self, valor, origen, destino):\n",
    "        num_destino = None\n",
    "        if (origen == 'celsius'):\n",
    "            if (destino == 'celsius'):\n",
    "                num_destino = valor\n",
    "            elif (destino == 'farenheit'):\n",
    "                num_destino = (valor * 9 / 5) + 32\n",
    "            elif (destino == 'kelvin'):\n",
    "                num_destino = valor + 273.15\n",
    "            \n",
    "        elif (origen == 'farenheit'):\n",
    "            if (destino == 'celsius'):\n",
    "                num_destino = (valor - 32) * 5 / 9\n",
    "            elif (destino == 'farenheit'):\n",
    "                num_destino = valor\n",
    "            elif (destino == 'kelvin'):\n",
    "                num_destino = ((valor - 32) * 5 / 9) + 273.15\n",
    "\n",
    "        elif (origen == 'kelvin'):\n",
    "            if (destino == 'celsius'):\n",
    "                num_destino = valor - 273.15\n",
    "            elif (destino == 'farenheit'):\n",
    "                num_destino = ((valor - 273.15) * 9 / 5) + 32\n",
    "            elif (destino == 'kelvin'):\n",
    "                num_destino = valor\n",
    "\n",
    "        else:\n",
    "            print('Parámetro de Origen incorrecto')\n",
    "        return num_destino\n",
    "\n",
    "    def factorial(self,numero):\n",
    "        if(type(numero) != int):\n",
    "            return 'El numero debe ser un entero'\n",
    "        if(numero < 0):\n",
    "            return 'El numero debe ser positivo'\n",
    "        if (numero > 1):\n",
    "            numero = numero * self.factorial(numero - 1)\n",
    "        return numero\n",
    "\n",
    "pruebas = Funciones()\n"
   ]
  },
  {
   "cell_type": "code",
   "execution_count": 47,
   "metadata": {},
   "outputs": [
    {
     "name": "stdout",
     "output_type": "stream",
     "text": [
      "Numero primo: True\n",
      "Conversion de grados:  274.15\n",
      "Factorial:  6\n"
     ]
    }
   ],
   "source": [
    "# 6) Probar las funciones incorporadas en la clase del punto 5\n",
    "\n",
    "pruebas = Funciones()\n",
    "print('Numero primo:', pruebas.numero_primo(7))\n",
    "print('Conversion de grados: ', pruebas.conversion_grados(1,'celsius','kelvin'))\n",
    "print('Factorial: ', pruebas.factorial(3))"
   ]
  },
  {
   "cell_type": "code",
   "execution_count": null,
   "metadata": {},
   "outputs": [],
   "source": [
    "# 7) Es necesario que la clase creada en el punto 5 contenga una lista, sobre la cual se aplquen las funciones incorporadas\n",
    "\n",
    "class Funciones: \n",
    "    def __init__(self,lista):\n",
    "        self.lista = lista\n",
    "    \n",
    "    def lista_primos(self):\n",
    "        for i in self.lista:\n",
    "            if (self.numero_primo(i)):\n",
    "                print(i, 'Si es primo')\n",
    "            else:\n",
    "                print(i, 'No es primo')\n",
    "\n",
    "    def numero_primo(self, n):\n",
    "        primo = True\n",
    "        for i in range (2,n):\n",
    "            if (n%i == 0):\n",
    "                primo = False\n",
    "                break\n",
    "            return primo \n",
    "\n",
    "    def conv_grados(self,origen, destino):\n",
    "        for i in self.lista:\n",
    "            print(i, )\n",
    "    \n",
    "    def conversion_grados(self, valor, origen, destino):\n",
    "        num_destino = None\n",
    "        if (origen == 'celsius'):\n",
    "            if (destino == 'celsius'):\n",
    "                num_destino = valor\n",
    "            elif (destino == 'farenheit'):\n",
    "                num_destino = (valor * 9 / 5) + 32\n",
    "            elif (destino == 'kelvin'):\n",
    "                num_destino = valor + 273.15\n",
    "            \n",
    "        elif (origen == 'farenheit'):\n",
    "            if (destino == 'celsius'):\n",
    "                num_destino = (valor - 32) * 5 / 9\n",
    "            elif (destino == 'farenheit'):\n",
    "                num_destino = valor\n",
    "            elif (destino == 'kelvin'):\n",
    "                num_destino = ((valor - 32) * 5 / 9) + 273.15\n",
    "\n",
    "        elif (origen == 'kelvin'):\n",
    "            if (destino == 'celsius'):\n",
    "                num_destino = valor - 273.15\n",
    "            elif (destino == 'farenheit'):\n",
    "                num_destino = ((valor - 273.15) * 9 / 5) + 32\n",
    "            elif (destino == 'kelvin'):\n",
    "                num_destino = valor\n",
    "\n",
    "        else:\n",
    "            print('Parámetro de Origen incorrecto')\n",
    "        return num_destino\n",
    "\n",
    "    def factorial(self,numero):\n",
    "        if(type(numero) != int):\n",
    "            return 'El numero debe ser un entero'\n",
    "        if(numero < 0):\n",
    "            return 'El numero debe ser positivo'\n",
    "        if (numero > 1):\n",
    "            numero = numero * self.factorial(numero - 1)\n",
    "        return numero\n"
   ]
  }
 ],
 "metadata": {
  "kernelspec": {
   "display_name": "Python 3.10.6 64-bit (microsoft store)",
   "language": "python",
   "name": "python3"
  },
  "language_info": {
   "codemirror_mode": {
    "name": "ipython",
    "version": 3
   },
   "file_extension": ".py",
   "mimetype": "text/x-python",
   "name": "python",
   "nbconvert_exporter": "python",
   "pygments_lexer": "ipython3",
   "version": "3.10.6"
  },
  "orig_nbformat": 4,
  "vscode": {
   "interpreter": {
    "hash": "19d762ffc7d2f958e0963c75da0d959adf181f4ac62524ed3e80179df28269f1"
   }
  }
 },
 "nbformat": 4,
 "nbformat_minor": 2
}
