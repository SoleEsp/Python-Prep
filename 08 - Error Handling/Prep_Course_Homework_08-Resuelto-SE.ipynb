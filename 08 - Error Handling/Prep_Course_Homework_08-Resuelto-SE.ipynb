{
 "cells": [
  {
   "cell_type": "code",
   "execution_count": 9,
   "metadata": {},
   "outputs": [],
   "source": [
    "# 1) Con la clase creada en el módulo 7, tener en cuenta diferentes casos en que el código pudiera arrojar error. Por ejemplo, en la creación del objeto recibimos una lista de números enteros pero ¿qué pasa si se envía otro tipo de dato?\n",
    "class Funciones: \n",
    "    def __init__(self,lista):\n",
    "        #self.lista = lista\n",
    "        if (type(lista) != list):\n",
    "            self.lista = []\n",
    "            raise ValueError('El valor ingresado no es una lista de numeros. Se creara una lista vacia')\n",
    "        else:\n",
    "            self.lista = lista\n",
    "                \n",
    "    def lista_primos(self):\n",
    "        lis_primos = []\n",
    "        for i in self.lista:\n",
    "            if (self.numero_primo(i)):\n",
    "                lis_primos.append(True)\n",
    "                #print(i, 'Si es primo')\n",
    "            else:\n",
    "                lis_primos.append(False)\n",
    "                #print(i, 'No es primo')\n",
    "        return lis_primos\n",
    "\n",
    "    def numero_primo(self, n):\n",
    "        primo = True\n",
    "        for i in range (2,n):\n",
    "            if (n%i == 0):\n",
    "                primo = False\n",
    "                break\n",
    "            return primo \n",
    "\n",
    "    def conv_grados(self,origen, destino):\n",
    "        medidas = ['celsius','kelvin','farenheit']\n",
    "    \n",
    "        if (not(origen in medidas)):\n",
    "            print('El valor de orige no es valido. Los valores aceptados son',medidas)\n",
    "            return self.lista\n",
    "                \n",
    "        if (not(destino in medidas)):\n",
    "            print('El valor de destino no es valido. Los valores aceptados son',medidas)\n",
    "            return self.lista\n",
    "        \n",
    "        for i in self.lista:\n",
    "            print(i,'grado',origen,'son', self.conversion_grados(i,origen,destino), destino ) \n",
    "    \n",
    "    def conversion_grados(self, valor, origen, destino):\n",
    "        num_destino = None\n",
    "        if (origen == 'celsius'):\n",
    "            if (destino == 'celsius'):\n",
    "                num_destino = valor\n",
    "            elif (destino == 'farenheit'):\n",
    "                num_destino = (valor * 9 / 5) + 32\n",
    "            elif (destino == 'kelvin'):\n",
    "                num_destino = valor + 273.15\n",
    "            \n",
    "        elif (origen == 'farenheit'):\n",
    "            if (destino == 'celsius'):\n",
    "                num_destino = (valor - 32) * 5 / 9\n",
    "            elif (destino == 'farenheit'):\n",
    "                num_destino = valor\n",
    "            elif (destino == 'kelvin'):\n",
    "                num_destino = ((valor - 32) * 5 / 9) + 273.15\n",
    "\n",
    "        elif (origen == 'kelvin'):\n",
    "            if (destino == 'celsius'):\n",
    "                num_destino = valor - 273.15\n",
    "            elif (destino == 'farenheit'):\n",
    "                num_destino = ((valor - 273.15) * 9 / 5) + 32\n",
    "            elif (destino == 'kelvin'):\n",
    "                num_destino = valor\n",
    "\n",
    "        else:\n",
    "            print('Parámetro de Origen incorrecto')\n",
    "        return num_destino\n",
    "\n",
    "    def num_factorial(self):\n",
    "        for i in self.lista:\n",
    "            print('El factorial de',i , 'es',self.factorial(i))\n",
    "\n",
    "    def factorial(self,numero):\n",
    "        if(type(numero) != int):\n",
    "            return 'El numero debe ser un entero'\n",
    "        if(numero < 0):\n",
    "            return 'El numero debe ser positivo'\n",
    "        if (numero > 1):\n",
    "            numero = numero * self.factorial(numero - 1)\n",
    "        return numero\n",
    "\n",
    "#listas = Funciones('lista')\n"
   ]
  },
  {
   "cell_type": "code",
   "execution_count": 7,
   "metadata": {},
   "outputs": [
    {
     "name": "stdout",
     "output_type": "stream",
     "text": [
      "El valor de orige no es valido. Los valores aceptados son ['celsius', 'kelvin', 'farenheit']\n"
     ]
    },
    {
     "data": {
      "text/plain": [
       "[2, 3, 4]"
      ]
     },
     "execution_count": 7,
     "metadata": {},
     "output_type": "execute_result"
    }
   ],
   "source": [
    "# 2) En la función que hace la conversión de grados, validar que los parámetros enviados sean los esperados, de no serlo, informar cuáles son los valores esperados.\n",
    "listas = Funciones([2,3,4])\n",
    "listas.conv_grados('clsius','kelvin')\n",
    "\n"
   ]
  },
  {
   "cell_type": "code",
   "execution_count": 31,
   "metadata": {},
   "outputs": [
    {
     "ename": "ValueError",
     "evalue": "El valor ingresado no es una lista de numeros. Se creara una lista vacia",
     "output_type": "error",
     "traceback": [
      "\u001b[1;31m---------------------------------------------------------------------------\u001b[0m",
      "\u001b[1;31mValueError\u001b[0m                                Traceback (most recent call last)",
      "\u001b[1;32m~\\AppData\\Local\\Temp\\ipykernel_3832\\2490665253.py\u001b[0m in \u001b[0;36m<module>\u001b[1;34m\u001b[0m\n\u001b[0;32m      1\u001b[0m \u001b[1;31m# 4) Probar una creación incorrecta y visualizar la salida del \"raise\"\u001b[0m\u001b[1;33m\u001b[0m\u001b[1;33m\u001b[0m\u001b[1;33m\u001b[0m\u001b[0m\n\u001b[0;32m      2\u001b[0m \u001b[1;33m\u001b[0m\u001b[0m\n\u001b[1;32m----> 3\u001b[1;33m \u001b[0merror1\u001b[0m \u001b[1;33m=\u001b[0m\u001b[0mFunciones\u001b[0m\u001b[1;33m(\u001b[0m\u001b[1;34m'dos'\u001b[0m\u001b[1;33m)\u001b[0m\u001b[1;33m\u001b[0m\u001b[1;33m\u001b[0m\u001b[0m\n\u001b[0m",
      "\u001b[1;32m~\\AppData\\Local\\Temp\\ipykernel_3832\\1643514625.py\u001b[0m in \u001b[0;36m__init__\u001b[1;34m(self, lista)\u001b[0m\n\u001b[0;32m      5\u001b[0m         \u001b[1;32mif\u001b[0m \u001b[1;33m(\u001b[0m\u001b[0mtype\u001b[0m\u001b[1;33m(\u001b[0m\u001b[0mlista\u001b[0m\u001b[1;33m)\u001b[0m \u001b[1;33m!=\u001b[0m \u001b[0mlist\u001b[0m\u001b[1;33m)\u001b[0m\u001b[1;33m:\u001b[0m\u001b[1;33m\u001b[0m\u001b[1;33m\u001b[0m\u001b[0m\n\u001b[0;32m      6\u001b[0m             \u001b[0mself\u001b[0m\u001b[1;33m.\u001b[0m\u001b[0mlista\u001b[0m \u001b[1;33m=\u001b[0m \u001b[1;33m[\u001b[0m\u001b[1;33m]\u001b[0m\u001b[1;33m\u001b[0m\u001b[1;33m\u001b[0m\u001b[0m\n\u001b[1;32m----> 7\u001b[1;33m             \u001b[1;32mraise\u001b[0m \u001b[0mValueError\u001b[0m\u001b[1;33m(\u001b[0m\u001b[1;34m'El valor ingresado no es una lista de numeros. Se creara una lista vacia'\u001b[0m\u001b[1;33m)\u001b[0m\u001b[1;33m\u001b[0m\u001b[1;33m\u001b[0m\u001b[0m\n\u001b[0m\u001b[0;32m      8\u001b[0m         \u001b[1;32melse\u001b[0m\u001b[1;33m:\u001b[0m\u001b[1;33m\u001b[0m\u001b[1;33m\u001b[0m\u001b[0m\n\u001b[0;32m      9\u001b[0m             \u001b[0mself\u001b[0m\u001b[1;33m.\u001b[0m\u001b[0mlista\u001b[0m \u001b[1;33m=\u001b[0m \u001b[0mlista\u001b[0m\u001b[1;33m\u001b[0m\u001b[1;33m\u001b[0m\u001b[0m\n",
      "\u001b[1;31mValueError\u001b[0m: El valor ingresado no es una lista de numeros. Se creara una lista vacia"
     ]
    }
   ],
   "source": [
    "# 4) Probar una creación incorrecta y visualizar la salida del \"raise\"\n",
    "\n",
    "error1 =Funciones('dos')\n"
   ]
  },
  {
   "cell_type": "code",
   "execution_count": 10,
   "metadata": {},
   "outputs": [
    {
     "data": {
      "text/plain": [
       "[True, False, True, False, True]"
      ]
     },
     "execution_count": 10,
     "metadata": {},
     "output_type": "execute_result"
    }
   ],
   "source": [
    "# 6) Agregar casos de pruebas para el método verifica_primos() realizando el cambio en la clase, para que devuelva una lista de True o False en función de que el elemento en la posisicón sea o no primo\n",
    "pruba = Funciones([3,4,5,6,7])\n",
    "pruba.lista_primos()\n",
    "import unittest\n",
    "class Caso_de_prueba1(unittest.TestCase):\n",
    "    \n",
    "    def verificar_primos(self):\n",
    "        "
   ]
  },
  {
   "cell_type": "code",
   "execution_count": null,
   "metadata": {},
   "outputs": [],
   "source": [
    "# 7) Agregar casos de pruebas para el método conversion_grados()\n"
   ]
  }
 ],
 "metadata": {
  "kernelspec": {
   "display_name": "Python 3.7.9 64-bit",
   "language": "python",
   "name": "python3"
  },
  "language_info": {
   "codemirror_mode": {
    "name": "ipython",
    "version": 3
   },
   "file_extension": ".py",
   "mimetype": "text/x-python",
   "name": "python",
   "nbconvert_exporter": "python",
   "pygments_lexer": "ipython3",
   "version": "3.7.9"
  },
  "orig_nbformat": 4,
  "vscode": {
   "interpreter": {
    "hash": "f6b78956a8331ac6755b35312064ef866c859a3e5e93aeabbcc65b1bf19c4d08"
   }
  }
 },
 "nbformat": 4,
 "nbformat_minor": 2
}
