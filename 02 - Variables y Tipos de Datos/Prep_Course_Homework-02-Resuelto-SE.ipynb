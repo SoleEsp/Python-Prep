{
 "cells": [
  {
   "cell_type": "code",
   "execution_count": 4,
   "metadata": {},
   "outputs": [
    {
     "name": "stdout",
     "output_type": "stream",
     "text": [
      "2\n"
     ]
    }
   ],
   "source": [
    "## 1) Crear una variable que contenga un elemento del conjunto de números enteros y luego imprimir por pantalla\n",
    "s = 2\n",
    "print(s)"
   ]
  },
  {
   "cell_type": "code",
   "execution_count": 5,
   "metadata": {},
   "outputs": [
    {
     "data": {
      "text/plain": [
       "float"
      ]
     },
     "execution_count": 5,
     "metadata": {},
     "output_type": "execute_result"
    }
   ],
   "source": [
    "## 2) Imprimir el tipo de dato de la constante 8.5\n",
    "\n",
    "type(8.5)"
   ]
  },
  {
   "cell_type": "code",
   "execution_count": 6,
   "metadata": {},
   "outputs": [
    {
     "data": {
      "text/plain": [
       "int"
      ]
     },
     "execution_count": 6,
     "metadata": {},
     "output_type": "execute_result"
    }
   ],
   "source": [
    "## 3) Imprimir el tipo de dato de la variable creada en el punto 1\n",
    "\n",
    "type(s)"
   ]
  },
  {
   "cell_type": "code",
   "execution_count": null,
   "metadata": {},
   "outputs": [],
   "source": [
    "## 4) Crear una variable que contenga tu nombre\n",
    "\n",
    "mi_nombre = 'Soledad Espiritu'"
   ]
  },
  {
   "cell_type": "code",
   "execution_count": null,
   "metadata": {},
   "outputs": [],
   "source": [
    "## 5) Crear una variable que contenga un número complejo\n",
    "\n",
    "numero_complejo = 3 + 5j"
   ]
  },
  {
   "cell_type": "code",
   "execution_count": 7,
   "metadata": {},
   "outputs": [
    {
     "ename": "NameError",
     "evalue": "name 'numero_complejo' is not defined",
     "output_type": "error",
     "traceback": [
      "\u001b[1;31m---------------------------------------------------------------------------\u001b[0m",
      "\u001b[1;31mNameError\u001b[0m                                 Traceback (most recent call last)",
      "\u001b[1;32mUntitled-1.ipynb Celda 6\u001b[0m in \u001b[0;36m<cell line: 3>\u001b[1;34m()\u001b[0m\n\u001b[0;32m      <a href='vscode-notebook-cell:Untitled-1.ipynb?jupyter-notebook#X11sdW50aXRsZWQ%3D?line=0'>1</a>\u001b[0m \u001b[39m## 6) Mostrar el tipo de dato de la variable crada en el punto 5\u001b[39;00m\n\u001b[1;32m----> <a href='vscode-notebook-cell:Untitled-1.ipynb?jupyter-notebook#X11sdW50aXRsZWQ%3D?line=2'>3</a>\u001b[0m \u001b[39mtype\u001b[39m(numero_complejo)\n",
      "\u001b[1;31mNameError\u001b[0m: name 'numero_complejo' is not defined"
     ]
    }
   ],
   "source": [
    "## 6) Mostrar el tipo de dato de la variable crada en el punto 5\n",
    "\n",
    "type(numero_complejo)"
   ]
  },
  {
   "cell_type": "code",
   "execution_count": null,
   "metadata": {},
   "outputs": [],
   "source": [
    "## 7) Crear una variable que contenga el valor del número Pi redondeado a 4 decimales\n",
    "\n",
    "pi = 3.1416"
   ]
  },
  {
   "cell_type": "code",
   "execution_count": 8,
   "metadata": {},
   "outputs": [],
   "source": [
    "## 8) Crear una variable que contenga el valor 'True' y otra que contenga el valor True. ¿Se trata de lo mismo?\n",
    "\n",
    "valor1 = 'True'\n",
    "valor2 = True"
   ]
  },
  {
   "cell_type": "code",
   "execution_count": 9,
   "metadata": {},
   "outputs": [
    {
     "name": "stdout",
     "output_type": "stream",
     "text": [
      "Tipo de dato valor1:  <class 'str'>\n",
      "tipo de dato valor2:  <class 'bool'>\n"
     ]
    }
   ],
   "source": [
    "## 9) Imprimir el tipo de dato correspondientes a las variables creadas en el punto 9\n",
    "\n",
    "print('Tipo de dato valor1: ', type(valor1))\n",
    "print('tipo de dato valor2: ', type(valor2))\n"
   ]
  },
  {
   "cell_type": "code",
   "execution_count": null,
   "metadata": {},
   "outputs": [],
   "source": [
    "## 10) Asignar a una variable, la suma de un número entero y otro decimal\n",
    "\n",
    "suma = 34 + 2.3"
   ]
  },
  {
   "cell_type": "code",
   "execution_count": 10,
   "metadata": {},
   "outputs": [],
   "source": [
    "## 11) Realizar una operación de suma de números complejos\n",
    "\n",
    "valor1 = 2 + 4j\n",
    "valor2 = 3 + 5j\n",
    "\n",
    "suma_complejos = valor1 + valor2 "
   ]
  },
  {
   "cell_type": "code",
   "execution_count": 11,
   "metadata": {},
   "outputs": [],
   "source": [
    "# 12) Realizar una operación de suma de un número real y otro complejo\n",
    "\n",
    "suma = 23 + valor1"
   ]
  },
  {
   "cell_type": "code",
   "execution_count": 12,
   "metadata": {},
   "outputs": [],
   "source": [
    "# 13) Realizar una operación de multiplicación\n",
    "\n",
    "multiplicacion = 2 * 3"
   ]
  },
  {
   "cell_type": "code",
   "execution_count": 17,
   "metadata": {},
   "outputs": [
    {
     "name": "stdout",
     "output_type": "stream",
     "text": [
      "256\n"
     ]
    }
   ],
   "source": [
    "# 14) Mostrar el resultado de elevar 2 a la octava potencia\n",
    "\n",
    "print(2**8)"
   ]
  },
  {
   "cell_type": "code",
   "execution_count": 14,
   "metadata": {},
   "outputs": [
    {
     "name": "stdout",
     "output_type": "stream",
     "text": [
      "6.75\n"
     ]
    }
   ],
   "source": [
    "# 15) Obtener el cociente de la división de 27 entre 4 en una variable y luego mostrarla\n",
    "division = 27/4\n",
    "\n",
    "print(division)"
   ]
  },
  {
   "cell_type": "code",
   "execution_count": 18,
   "metadata": {},
   "outputs": [
    {
     "name": "stdout",
     "output_type": "stream",
     "text": [
      "Parte entera de division 6\n"
     ]
    }
   ],
   "source": [
    "# 16) De la división anterior solamente mostrar la parte entera\n",
    "\n",
    "print('La Parte entera de division es: ', 27//4)"
   ]
  },
  {
   "cell_type": "code",
   "execution_count": 19,
   "metadata": {},
   "outputs": [
    {
     "name": "stdout",
     "output_type": "stream",
     "text": [
      "El RESTO de division es:  3\n"
     ]
    }
   ],
   "source": [
    "# 17) De la división de 27 entre 4 mostrar solamente el resto\n",
    "\n",
    "print('El RESTO de division es: ', 27%4)"
   ]
  },
  {
   "cell_type": "code",
   "execution_count": 20,
   "metadata": {},
   "outputs": [],
   "source": [
    "# 18) Utilizando como operandos el número 4 y los resultados obtenidos en los puntos 16 y 17. Obtener 27 como resultado\n",
    "\n",
    "resultado = 4 * 6 + 3"
   ]
  },
  {
   "cell_type": "code",
   "execution_count": null,
   "metadata": {},
   "outputs": [],
   "source": [
    "# 19) Utilizar el operador \"+\" en una operación donde intervengan solo variables alfanuméricas\n",
    "\n",
    "variable1 = 20\n",
    "variable2 = 23\n",
    "\n",
    "print(variable1 + variable2)"
   ]
  },
  {
   "cell_type": "code",
   "execution_count": 21,
   "metadata": {},
   "outputs": [
    {
     "data": {
      "text/plain": [
       "False"
      ]
     },
     "execution_count": 21,
     "metadata": {},
     "output_type": "execute_result"
    }
   ],
   "source": [
    "# 20) Evaluar si \"2\" es igual a 2. ¿Por qué ocurre eso?\n",
    "\n",
    "'2' == 2  # no son iguales porque \"2\" es un string y 2 es tipo int"
   ]
  },
  {
   "cell_type": "code",
   "execution_count": 22,
   "metadata": {},
   "outputs": [
    {
     "data": {
      "text/plain": [
       "True"
      ]
     },
     "execution_count": 22,
     "metadata": {},
     "output_type": "execute_result"
    }
   ],
   "source": [
    "# 21) Utilizar las funciones de cambio de tipo de dato, para que la validación del punto 20 resulte verdadera\n",
    "int('2') == 2"
   ]
  },
  {
   "cell_type": "code",
   "execution_count": 33,
   "metadata": {},
   "outputs": [
    {
     "name": "stdout",
     "output_type": "stream",
     "text": [
      "3,8\n"
     ]
    }
   ],
   "source": [
    "# 22) ¿Por qué arroja error el siguiente cambio de tipo de datos? a = float('3,8')\n",
    "a = float('3,8') \n",
    "# arroja error porque no lo considera numero decimal al tener una coma"
   ]
  },
  {
   "cell_type": "code",
   "execution_count": 35,
   "metadata": {},
   "outputs": [
    {
     "name": "stdout",
     "output_type": "stream",
     "text": [
      "-2\n"
     ]
    }
   ],
   "source": [
    "# 23) Crear una variable con el valor 3, y utilizar el operador '-=' para modificar su contenido\n",
    "\n",
    "valor = 3\n",
    "valor -=5\n",
    "print(valor)"
   ]
  },
  {
   "cell_type": "code",
   "execution_count": 36,
   "metadata": {},
   "outputs": [
    {
     "name": "stdout",
     "output_type": "stream",
     "text": [
      "4\n"
     ]
    }
   ],
   "source": [
    "# 24) Realizar la operacion 1 << 2 ¿Por qué da ese resultado? ¿Qué es el sistema de numeración binario?\n",
    "\n",
    "print(1 << 2)\n",
    "# devuelve ese resultado porque en numero 1 en binario es 001 y el 2 significa que se mueve 2 lugares a izquierda devolviendo como resultado 100 que en decimal es 4\n",
    "# el sistema de numeracion binaria es la representacion en binario, en 1s y 0s, de los numeros decimales\n"
   ]
  },
  {
   "cell_type": "code",
   "execution_count": 43,
   "metadata": {},
   "outputs": [],
   "source": [
    "# 25) Realizar la operación 2 + '2' ¿Por qué no está permitido? ¿Si los dos operandos serían del mismo tipo, siempre arrojaría el mismo resultado?\n",
    "operacion = 2 + '2' # no se permite porque no es una suma con tipos de datos iguales\n",
    "print(operacion)\n",
    "\n",
    "operacion2 = '2' + '2' # los resultados son diferentes, dependen del tipo de dato que tengan, si son cadenas da 22 pero si son tipo int da 4\n",
    "operacion3 = 2 + 2\n",
    "operacion4 = 2 + int('2')\n",
    "operacion5 = str(2)+ '2'"
   ]
  },
  {
   "cell_type": "code",
   "execution_count": 49,
   "metadata": {},
   "outputs": [
    {
     "name": "stdout",
     "output_type": "stream",
     "text": [
      "trestrestres3\n"
     ]
    }
   ],
   "source": [
    "# 26) Realizar una operación válida entre valores de tipo entero y string\n",
    "\n",
    "valor1 = 3\n",
    "valor2 = 'tres'\n",
    "print(valor1 * valor2 + str(valor1))"
   ]
  }
 ],
 "metadata": {
  "kernelspec": {
   "display_name": "Python 3.10.6 64-bit (microsoft store)",
   "language": "python",
   "name": "python3"
  },
  "language_info": {
   "codemirror_mode": {
    "name": "ipython",
    "version": 3
   },
   "file_extension": ".py",
   "mimetype": "text/x-python",
   "name": "python",
   "nbconvert_exporter": "python",
   "pygments_lexer": "ipython3",
   "version": "3.10.6"
  },
  "orig_nbformat": 4,
  "vscode": {
   "interpreter": {
    "hash": "19d762ffc7d2f958e0963c75da0d959adf181f4ac62524ed3e80179df28269f1"
   }
  }
 },
 "nbformat": 4,
 "nbformat_minor": 2
}
