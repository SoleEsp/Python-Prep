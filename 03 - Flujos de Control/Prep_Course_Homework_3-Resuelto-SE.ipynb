{
 "cells": [
  {
   "cell_type": "code",
   "execution_count": 110,
   "metadata": {},
   "outputs": [
    {
     "name": "stdout",
     "output_type": "stream",
     "text": [
      "Es menor a 0\n"
     ]
    }
   ],
   "source": [
    "# 1) Crear una variable que contenga un elemento del conjunto de números enteros y luego imprimir por pantalla si es mayor o menor a cero\n",
    "\n",
    "a = 4\n",
    "\n",
    "if (a > 0):\n",
    "    print('Es mayor a 0')\n",
    "else:\n",
    "    print('Es menor a 0')"
   ]
  },
  {
   "cell_type": "code",
   "execution_count": 2,
   "metadata": {},
   "outputs": [
    {
     "name": "stdout",
     "output_type": "stream",
     "text": [
      "Las variables son del mismo tipo de datos\n"
     ]
    }
   ],
   "source": [
    "# 2) Crear dos variables y un condicional que informe si son del mismo tipo de dato\n",
    "\n",
    "var1 = '2'\n",
    "var2 = 2\n",
    "\n",
    "if (type(var1) == type(var2)):\n",
    "    print('Las variables son del mismo tipo de datos')\n",
    "else:\n",
    "    print('Las variables no son del mismo tipo de datos')"
   ]
  },
  {
   "cell_type": "code",
   "execution_count": 3,
   "metadata": {},
   "outputs": [
    {
     "name": "stdout",
     "output_type": "stream",
     "text": [
      "1 : es un numero IMPAR\n",
      "2  :Es un numero PAR\n",
      "3 : es un numero IMPAR\n",
      "4  :Es un numero PAR\n",
      "5 : es un numero IMPAR\n",
      "6  :Es un numero PAR\n",
      "7 : es un numero IMPAR\n",
      "8  :Es un numero PAR\n",
      "9 : es un numero IMPAR\n",
      "10  :Es un numero PAR\n",
      "11 : es un numero IMPAR\n",
      "12  :Es un numero PAR\n",
      "13 : es un numero IMPAR\n",
      "14  :Es un numero PAR\n",
      "15 : es un numero IMPAR\n",
      "16  :Es un numero PAR\n",
      "17 : es un numero IMPAR\n",
      "18  :Es un numero PAR\n",
      "19 : es un numero IMPAR\n",
      "20  :Es un numero PAR\n"
     ]
    }
   ],
   "source": [
    "# 3) Para los valores enteros del 1 al 20, imprimir por pantalla si es par o impar\n",
    "\n",
    "var = 1\n",
    "\n",
    "while (var <= 20):\n",
    "    if (var%2 == 0):\n",
    "        print(var, ' :Es un numero PAR')\n",
    "    else:\n",
    "        print(var, ': es un numero IMPAR')\n",
    "    var += 1"
   ]
  },
  {
   "cell_type": "code",
   "execution_count": 7,
   "metadata": {},
   "outputs": [
    {
     "name": "stdout",
     "output_type": "stream",
     "text": [
      "0 elevado a 3 es igual a  0\n",
      "1 elevado a 3 es igual a  1\n",
      "2 elevado a 3 es igual a  8\n",
      "3 elevado a 3 es igual a  27\n",
      "4 elevado a 3 es igual a  64\n",
      "5 elevado a 3 es igual a  125\n"
     ]
    }
   ],
   "source": [
    "# 4) En un ciclo for mostrar para los valores entre 0 y 5 el resultado de elevarlo a la potencia igual a 3\n",
    "\n",
    "for i in range (6):\n",
    "    print(i, 'elevado a 3 es igual a ', i**3)"
   ]
  },
  {
   "cell_type": "code",
   "execution_count": 9,
   "metadata": {},
   "outputs": [
    {
     "name": "stdout",
     "output_type": "stream",
     "text": [
      "Cantidad de ciclos:  9\n"
     ]
    }
   ],
   "source": [
    "# 5) Crear una variable que contenga un número entero y realizar un ciclo for la misma cantidad de ciclos\n",
    "\n",
    "var = 10\n",
    "\n",
    "for i in range(var):\n",
    "    pass\n",
    "print('Cantidad de ciclos: ', i)"
   ]
  },
  {
   "cell_type": "code",
   "execution_count": 42,
   "metadata": {},
   "outputs": [
    {
     "name": "stdout",
     "output_type": "stream",
     "text": [
      "El factorial es:  720\n"
     ]
    }
   ],
   "source": [
    "# 6) Utilizar un ciclo while para realizar el factorial de un número guardado en una variable, sólo si la variable contiene un número entero mayor a 0\n",
    "\n",
    "var = 6\n",
    "\n",
    "if (type(var) == int):\n",
    "    if (var > 0):\n",
    "        i = 1\n",
    "        factorial = 1\n",
    "        while (i <= var):\n",
    "            factorial = factorial * i\n",
    "            i += 1\n",
    "        print('El factorial es: ', factorial)\n",
    "    else:\n",
    "        print('El numero no es mayor que 0')\n",
    "else:\n",
    "    print('El numero no es un entero')\n"
   ]
  },
  {
   "cell_type": "code",
   "execution_count": 64,
   "metadata": {},
   "outputs": [
    {
     "name": "stdout",
     "output_type": "stream",
     "text": [
      "ciclo 2 de while\n",
      "ciclo 1 de for\n",
      "ciclo 3 de while\n",
      "ciclo 1 de for\n",
      "ciclo 3 de while\n",
      "ciclo 2 de for\n",
      "ciclo 4 de while\n",
      "ciclo 1 de for\n",
      "ciclo 4 de while\n",
      "ciclo 2 de for\n",
      "ciclo 4 de while\n",
      "ciclo 3 de for\n"
     ]
    }
   ],
   "source": [
    "# 7) Crear un ciclo for dentro de un ciclo while\n",
    "\n",
    "n = 0\n",
    "\n",
    "while (n < 4):\n",
    "    n += 1\n",
    "    for i in range (1,n):\n",
    "        print('ciclo',n , 'de while') \n",
    "        print('ciclo',i , 'de for' ) \n",
    "        \n",
    "         "
   ]
  },
  {
   "cell_type": "code",
   "execution_count": 81,
   "metadata": {},
   "outputs": [
    {
     "name": "stdout",
     "output_type": "stream",
     "text": [
      "ciclo de for 1\n",
      "ciclo de for 1\n",
      "ciclo de for 1\n",
      "ciclo de for 1\n",
      "ciclo de for 1\n",
      "ciclo de while 0\n",
      "ciclo de while 0\n",
      "ciclo de while 0\n",
      "ciclo de while 0\n"
     ]
    }
   ],
   "source": [
    "# 8) Crear un ciclo while dentro de un ciclo for\n",
    "n = 5\n",
    "for i in range (1,n):\n",
    "    while (n > 0):\n",
    "        n -= 1\n",
    "        print('ciclo de for', i)\n",
    "    print('ciclo de while', n)\n",
    "    "
   ]
  },
  {
   "cell_type": "code",
   "execution_count": 8,
   "metadata": {},
   "outputs": [
    {
     "name": "stdout",
     "output_type": "stream",
     "text": [
      "2 es primo\n",
      "3 es primo\n",
      "5 es primo\n",
      "7 es primo\n",
      "11 es primo\n",
      "13 es primo\n",
      "17 es primo\n",
      "19 es primo\n",
      "23 es primo\n",
      "29 es primo\n"
     ]
    }
   ],
   "source": [
    "# 9) Imprimir los números primos existentes entre 0 y 30\n",
    "\n",
    "n = 2\n",
    "while (n < 30):\n",
    "    resto = 0\n",
    "    for i in range (2,n):\n",
    "        if (n%i == 0):\n",
    "            resto += 1\n",
    "    if (resto == 0):\n",
    "        print(n,'es primo')\n",
    "    n += 1"
   ]
  },
  {
   "cell_type": "code",
   "execution_count": 14,
   "metadata": {},
   "outputs": [
    {
     "name": "stdout",
     "output_type": "stream",
     "text": [
      "2 es primo\n",
      "3 es primo\n",
      "5 es primo\n",
      "7 es primo\n",
      "11 es primo\n",
      "13 es primo\n",
      "17 es primo\n",
      "19 es primo\n",
      "23 es primo\n",
      "29 es primo\n"
     ]
    }
   ],
   "source": [
    "# 10) ¿Se puede mejorar el proceso del punto 9? Utilizar las sentencias break y/ó continue para tal fin\n",
    "n = 2\n",
    "while (n < 30):\n",
    "    resto = 0\n",
    "    for i in range (2,n):\n",
    "        if (n%i == 0):\n",
    "            resto += 1\n",
    "            break\n",
    "    if (resto == 0):\n",
    "        print(n,'es primo')\n",
    "    n += 1"
   ]
  },
  {
   "cell_type": "code",
   "execution_count": 19,
   "metadata": {},
   "outputs": [
    {
     "name": "stdout",
     "output_type": "stream",
     "text": [
      "2 es primo\n",
      "3 es primo\n",
      "5 es primo\n",
      "7 es primo\n",
      "11 es primo\n",
      "13 es primo\n",
      "17 es primo\n",
      "19 es primo\n",
      "23 es primo\n",
      "29 es primo\n",
      "Cantidad de ciclos SIN break:  378\n"
     ]
    }
   ],
   "source": [
    "# 11) En los puntos 9 y 10, se diseño un código que encuentra números primos y además se lo optimizó. ¿Es posible saber en qué medida se optimizó?\n",
    "ciclos_sin_break = 0\n",
    "n = 2\n",
    "while (n < 30):\n",
    "    resto = 0\n",
    "    for i in range (2,n):\n",
    "        ciclos_sin_break +=1\n",
    "        if (n%i == 0):\n",
    "            resto += 1\n",
    "    if (resto == 0):\n",
    "        print(n,'es primo')\n",
    "    n += 1\n",
    "print('Cantidad de ciclos SIN break: ', ciclos_sin_break)"
   ]
  },
  {
   "cell_type": "code",
   "execution_count": 23,
   "metadata": {},
   "outputs": [
    {
     "name": "stdout",
     "output_type": "stream",
     "text": [
      "2 es primo\n",
      "3 es primo\n",
      "5 es primo\n",
      "7 es primo\n",
      "11 es primo\n",
      "13 es primo\n",
      "17 es primo\n",
      "19 es primo\n",
      "23 es primo\n",
      "29 es primo\n",
      "Cantidad de ciclos CON break:  134\n",
      "Se optimizó a un  0.3544973544973545 % de ciclos aplicando break\n"
     ]
    }
   ],
   "source": [
    "# continuacion de punto 11\n",
    "\n",
    "ciclos_con_break = 0\n",
    "n = 2\n",
    "while (n < 30):\n",
    "    resto = 0\n",
    "    for i in range (2,n):\n",
    "        ciclos_con_break +=1\n",
    "        if (n%i == 0):\n",
    "            resto += 1\n",
    "            break\n",
    "    if (resto == 0):\n",
    "        print(n,'es primo')\n",
    "    n += 1\n",
    "print('Cantidad de ciclos CON break: ', ciclos_con_break)\n",
    "print('Se optimizó a un ', ciclos_con_break/ciclos_sin_break, '% de ciclos aplicando break')"
   ]
  },
  {
   "cell_type": "code",
   "execution_count": 24,
   "metadata": {},
   "outputs": [
    {
     "name": "stdout",
     "output_type": "stream",
     "text": [
      "2 es primo\n",
      "3 es primo\n",
      "5 es primo\n",
      "7 es primo\n",
      "11 es primo\n",
      "13 es primo\n",
      "17 es primo\n",
      "19 es primo\n",
      "23 es primo\n",
      "29 es primo\n",
      "31 es primo\n",
      "37 es primo\n",
      "41 es primo\n",
      "43 es primo\n",
      "47 es primo\n",
      "53 es primo\n",
      "59 es primo\n",
      "61 es primo\n",
      "67 es primo\n",
      "71 es primo\n",
      "73 es primo\n",
      "79 es primo\n",
      "83 es primo\n",
      "89 es primo\n",
      "97 es primo\n",
      "Cantidad de ciclos SIN break:  4753\n"
     ]
    }
   ],
   "source": [
    "# 12) Si la cantidad de números que se evalúa es mayor a treinta, esa optimización crece?\n",
    "ciclos_sin_break = 0\n",
    "n = 2\n",
    "while (n < 100):\n",
    "    resto = 0\n",
    "    for i in range (2,n):\n",
    "        ciclos_sin_break +=1\n",
    "        if (n%i == 0):\n",
    "            resto += 1\n",
    "    if (resto == 0):\n",
    "        print(n,'es primo')\n",
    "    n += 1\n",
    "print('Cantidad de ciclos SIN break: ', ciclos_sin_break)"
   ]
  },
  {
   "cell_type": "code",
   "execution_count": 25,
   "metadata": {},
   "outputs": [
    {
     "name": "stdout",
     "output_type": "stream",
     "text": [
      "2 es primo\n",
      "3 es primo\n",
      "5 es primo\n",
      "7 es primo\n",
      "11 es primo\n",
      "13 es primo\n",
      "17 es primo\n",
      "19 es primo\n",
      "23 es primo\n",
      "29 es primo\n",
      "31 es primo\n",
      "37 es primo\n",
      "41 es primo\n",
      "43 es primo\n",
      "47 es primo\n",
      "53 es primo\n",
      "59 es primo\n",
      "61 es primo\n",
      "67 es primo\n",
      "71 es primo\n",
      "73 es primo\n",
      "79 es primo\n",
      "83 es primo\n",
      "89 es primo\n",
      "97 es primo\n",
      "Cantidad de ciclos CON break:  1132\n",
      "Se optimizó a un  0.2381653692404797 % de ciclos aplicando break\n"
     ]
    }
   ],
   "source": [
    "# continuacion de punto 12\n",
    "ciclos_con_break = 0\n",
    "n = 2\n",
    "while (n < 100):\n",
    "    resto = 0\n",
    "    for i in range (2,n):\n",
    "        ciclos_con_break +=1\n",
    "        if (n%i == 0):\n",
    "            resto += 1\n",
    "            break\n",
    "    if (resto == 0):\n",
    "        print(n,'es primo')\n",
    "    n += 1\n",
    "print('Cantidad de ciclos CON break: ', ciclos_con_break)\n",
    "print('Se optimizó a un ', ciclos_con_break/ciclos_sin_break, '% de ciclos aplicando break')\n",
    "\n",
    "# la optimizacion va disminuyendo"
   ]
  },
  {
   "cell_type": "code",
   "execution_count": null,
   "metadata": {},
   "outputs": [],
   "source": [
    "# 13) Aplicando continue, armar un ciclo while que solo imprima los valores divisibles por 12, dentro del rango de números de 100 a 300\n",
    "\n"
   ]
  }
 ],
 "metadata": {
  "kernelspec": {
   "display_name": "Python 3.10.6 64-bit",
   "language": "python",
   "name": "python3"
  },
  "language_info": {
   "codemirror_mode": {
    "name": "ipython",
    "version": 3
   },
   "file_extension": ".py",
   "mimetype": "text/x-python",
   "name": "python",
   "nbconvert_exporter": "python",
   "pygments_lexer": "ipython3",
   "version": "3.10.6"
  },
  "orig_nbformat": 4,
  "vscode": {
   "interpreter": {
    "hash": "341268af697f69dd1ffdcdac7af840419ecb88f390bc16e46c3586102df69d04"
   }
  }
 },
 "nbformat": 4,
 "nbformat_minor": 2
}
