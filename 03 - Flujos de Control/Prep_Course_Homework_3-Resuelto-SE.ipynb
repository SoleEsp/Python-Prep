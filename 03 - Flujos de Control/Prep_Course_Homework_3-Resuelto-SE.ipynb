{
 "cells": [
  {
   "cell_type": "code",
   "execution_count": 1,
   "metadata": {},
   "outputs": [
    {
     "name": "stdout",
     "output_type": "stream",
     "text": [
      "Es mayor a 0\n"
     ]
    }
   ],
   "source": [
    "# 1) Crear una variable que contenga un elemento del conjunto de números enteros y luego imprimir por pantalla si es mayor o menor a cero\n",
    "\n",
    "a = 3\n",
    "\n",
    "if (a > 0):\n",
    "    print('Es mayor a 0')\n",
    "else:\n",
    "    print('Es menor a 0')"
   ]
  },
  {
   "cell_type": "code",
   "execution_count": 2,
   "metadata": {},
   "outputs": [
    {
     "name": "stdout",
     "output_type": "stream",
     "text": [
      "Son del mismo tipo de dato\n"
     ]
    }
   ],
   "source": [
    "# 2) Crear dos variables y un condicional que informe si son del mismo tipo de dato\n",
    "\n",
    "var1 = '2'\n",
    "var2 = 2\n",
    "\n",
    "if (type(var1) == type(var2)):\n",
    "    print('Las variables son del mismo tipo de datos')\n",
    "else:\n",
    "    print('Las variables no son del mismo tipo de datos')"
   ]
  },
  {
   "cell_type": "code",
   "execution_count": null,
   "metadata": {},
   "outputs": [],
   "source": [
    "# 3) Para los valores enteros del 1 al 20, imprimir por pantalla si es par o impar\n",
    "\n",
    "var = 1\n",
    "\n",
    "while (var <= 20):\n",
    "    if (var%2 == 0):\n",
    "        print(var, ' :Es un numero PAR')\n",
    "    else:\n",
    "        print(var, ': es un numero IMPAR')\n",
    "    var += 1"
   ]
  },
  {
   "cell_type": "code",
   "execution_count": null,
   "metadata": {},
   "outputs": [],
   "source": [
    "# 4) En un ciclo for mostrar para los valores entre 0 y 5 el resultado de elevarlo a la potencia igual a 3\n",
    "\n",
    "for i in range (6):\n",
    "    print(i, 'elevado a 3 es igual a ', i**3)"
   ]
  },
  {
   "cell_type": "code",
   "execution_count": null,
   "metadata": {},
   "outputs": [],
   "source": [
    "# 5) Crear una variable que contenga un número entero y realizar un ciclo for la misma cantidad de ciclos\n",
    "\n",
    "var = 10\n",
    "\n",
    "for i in range(var):\n",
    "    pass\n",
    "print('Cantidad de ciclos: ', i)"
   ]
  },
  {
   "cell_type": "code",
   "execution_count": null,
   "metadata": {},
   "outputs": [],
   "source": [
    "# 6) Utilizar un ciclo while para realizar el factorial de un número guardado en una variable, sólo si la variable contiene un número entero mayor a 0\n",
    "\n",
    "var = 6\n",
    "\n",
    "if (type(var) == int):\n",
    "    if (var > 0):\n",
    "        i = 1\n",
    "        factorial = 1\n",
    "        while (i <= var):\n",
    "            factorial = factorial * i\n",
    "            i += 1\n",
    "        print('El factorial es: ', factorial)\n",
    "    else:\n",
    "        print('El numero no es mayor que 0')\n",
    "else:\n",
    "    print('El numero no es un entero')"
   ]
  },
  {
   "cell_type": "code",
   "execution_count": null,
   "metadata": {},
   "outputs": [],
   "source": [
    "# 7) Crear un ciclo for dentro de un ciclo while\n",
    "\n",
    "n = 0\n",
    "\n",
    "while (n < 4):\n",
    "    n += 1\n",
    "    for i in range (1,n):\n",
    "        print('ciclo',n , 'de while') \n",
    "        print('ciclo',i , 'de for' )"
   ]
  },
  {
   "cell_type": "code",
   "execution_count": null,
   "metadata": {},
   "outputs": [],
   "source": [
    "# 8) Crear un ciclo while dentro de un ciclo for\n",
    "n = 5\n",
    "for i in range (1,n):\n",
    "    while (n > 0):\n",
    "        n -= 1\n",
    "        print('ciclo de for', i)\n",
    "    print('ciclo de while', n)"
   ]
  },
  {
   "cell_type": "code",
   "execution_count": null,
   "metadata": {},
   "outputs": [],
   "source": [
    "# 9) Imprimir los números primos existentes entre 0 y 30\n",
    "\n",
    "n = 2\n",
    "while (n < 30):\n",
    "    resto = 0\n",
    "    for i in range (2,n):\n",
    "        if (n%i == 0):\n",
    "            resto += 1\n",
    "    if (resto == 0):\n",
    "        print(n,'es primo')\n",
    "    n += 1"
   ]
  },
  {
   "cell_type": "code",
   "execution_count": null,
   "metadata": {},
   "outputs": [],
   "source": [
    "# 10) ¿Se puede mejorar el proceso del punto 9? Utilizar las sentencias break y/ó continue para tal fin\n",
    "n = 2\n",
    "while (n < 30):\n",
    "    resto = 0\n",
    "    for i in range (2,n):\n",
    "        if (n%i == 0):\n",
    "            resto += 1\n",
    "            break\n",
    "    if (resto == 0):\n",
    "        print(n,'es primo')\n",
    "    n += 1"
   ]
  },
  {
   "cell_type": "code",
   "execution_count": null,
   "metadata": {},
   "outputs": [],
   "source": [
    "# 11) En los puntos 9 y 10, se diseño un código que encuentra números primos y además se lo optimizó. ¿Es posible saber en qué medida se optimizó?\n",
    "ciclos_sin_break = 0\n",
    "n = 2\n",
    "while (n < 30):\n",
    "    resto = 0\n",
    "    for i in range (2,n):\n",
    "        ciclos_sin_break +=1\n",
    "        if (n%i == 0):\n",
    "            resto += 1\n",
    "    if (resto == 0):\n",
    "        print(n,'es primo')\n",
    "    n += 1\n",
    "print('Cantidad de ciclos SIN break: ', ciclos_sin_break)"
   ]
  },
  {
   "cell_type": "code",
   "execution_count": null,
   "metadata": {},
   "outputs": [],
   "source": [
    "# continuacion de punto 11\n",
    "\n",
    "ciclos_con_break = 0\n",
    "n = 2\n",
    "while (n < 30):\n",
    "    resto = 0\n",
    "    for i in range (2,n):\n",
    "        ciclos_con_break +=1\n",
    "        if (n%i == 0):\n",
    "            resto += 1\n",
    "            break\n",
    "    if (resto == 0):\n",
    "        print(n,'es primo')\n",
    "    n += 1\n",
    "print('Cantidad de ciclos CON break: ', ciclos_con_break)\n",
    "print('Se optimizó a un ', ciclos_con_break/ciclos_sin_break, '% de ciclos aplicando break')"
   ]
  },
  {
   "cell_type": "code",
   "execution_count": 2,
   "metadata": {},
   "outputs": [
    {
     "name": "stdout",
     "output_type": "stream",
     "text": [
      "2 es primo\n",
      "3 es primo\n",
      "5 es primo\n",
      "7 es primo\n",
      "11 es primo\n",
      "13 es primo\n",
      "17 es primo\n",
      "19 es primo\n",
      "23 es primo\n",
      "29 es primo\n",
      "31 es primo\n",
      "37 es primo\n",
      "41 es primo\n",
      "43 es primo\n",
      "47 es primo\n",
      "53 es primo\n",
      "59 es primo\n",
      "61 es primo\n",
      "67 es primo\n",
      "71 es primo\n",
      "73 es primo\n",
      "79 es primo\n",
      "83 es primo\n",
      "89 es primo\n",
      "97 es primo\n",
      "Cantidad de ciclos SIN break:  4753\n"
     ]
    }
   ],
   "source": [
    "# 12) Si la cantidad de números que se evalúa es mayor a treinta, esa optimización crece?\n",
    "ciclos_sin_break = 0\n",
    "n = 2\n",
    "while (n < 100):\n",
    "    resto = 0\n",
    "    for i in range (2,n):\n",
    "        ciclos_sin_break +=1\n",
    "        if (n%i == 0):\n",
    "            resto += 1\n",
    "    if (resto == 0):\n",
    "        print(n,'es primo')\n",
    "    n += 1\n",
    "print('Cantidad de ciclos SIN break: ', ciclos_sin_break)"
   ]
  },
  {
   "cell_type": "code",
   "execution_count": 3,
   "metadata": {},
   "outputs": [
    {
     "name": "stdout",
     "output_type": "stream",
     "text": [
      "2 es primo\n",
      "3 es primo\n",
      "5 es primo\n",
      "7 es primo\n",
      "11 es primo\n",
      "13 es primo\n",
      "17 es primo\n",
      "19 es primo\n",
      "23 es primo\n",
      "29 es primo\n",
      "31 es primo\n",
      "37 es primo\n",
      "41 es primo\n",
      "43 es primo\n",
      "47 es primo\n",
      "53 es primo\n",
      "59 es primo\n",
      "61 es primo\n",
      "67 es primo\n",
      "71 es primo\n",
      "73 es primo\n",
      "79 es primo\n",
      "83 es primo\n",
      "89 es primo\n",
      "97 es primo\n",
      "Cantidad de ciclos CON break:  1132\n",
      "Se optimizó a un  0.2381653692404797 % de ciclos aplicando break\n"
     ]
    }
   ],
   "source": [
    "# continuacion de punto 12\n",
    "ciclos_con_break = 0\n",
    "n = 2\n",
    "while (n < 100):\n",
    "    resto = 0\n",
    "    for i in range (2,n):\n",
    "        ciclos_con_break +=1\n",
    "        if (n%i == 0):\n",
    "            resto += 1\n",
    "            break\n",
    "    if (resto == 0):\n",
    "        print(n,'es primo')\n",
    "    n += 1\n",
    "print('Cantidad de ciclos CON break: ', ciclos_con_break)\n",
    "print('Se optimizó a un ', ciclos_con_break/ciclos_sin_break, '% de ciclos aplicando break')\n",
    "\n",
    "# la optimizacion va disminuyendo"
   ]
  },
  {
   "cell_type": "code",
   "execution_count": 22,
   "metadata": {},
   "outputs": [
    {
     "name": "stdout",
     "output_type": "stream",
     "text": [
      "108 es divisible\n",
      "120 es divisible\n",
      "132 es divisible\n",
      "144 es divisible\n",
      "156 es divisible\n",
      "168 es divisible\n",
      "180 es divisible\n",
      "192 es divisible\n",
      "204 es divisible\n",
      "216 es divisible\n",
      "228 es divisible\n",
      "240 es divisible\n",
      "252 es divisible\n",
      "264 es divisible\n",
      "276 es divisible\n",
      "288 es divisible\n",
      "300 es divisible\n"
     ]
    }
   ],
   "source": [
    "# 13) Aplicando continue, armar un ciclo while que solo imprima los valores divisibles por 12, dentro del rango de números de 100 a 300\n",
    "n = 100\n",
    "while (n <= 300):\n",
    "    n+=1\n",
    "    if (n%12 != 0):\n",
    "        continue\n",
    "    print(n, 'es divisible por 12')\n"
   ]
  },
  {
   "cell_type": "code",
   "execution_count": 51,
   "metadata": {},
   "outputs": [
    {
     "name": "stdout",
     "output_type": "stream",
     "text": [
      "2 es primo\n",
      "Desea encontrar el siguiente numero primo? Escriba SI o NO\n",
      "3 es primo\n",
      "Desea encontrar el siguiente numero primo? Escriba SI o NO\n",
      "5 es primo\n",
      "Desea encontrar el siguiente numero primo? Escriba SI o NO\n",
      "7 es primo\n",
      "Desea encontrar el siguiente numero primo? Escriba SI o NO\n",
      "11 es primo\n",
      "Desea encontrar el siguiente numero primo? Escriba SI o NO\n",
      "13 es primo\n",
      "Desea encontrar el siguiente numero primo? Escriba SI o NO\n",
      "17 es primo\n",
      "Desea encontrar el siguiente numero primo? Escriba SI o NO\n",
      "Fin\n"
     ]
    }
   ],
   "source": [
    "# 14) Utilizar la función **input()** que permite hacer ingresos por teclado, para encontrar números primos y dar la opción al usario de buscar el siguiente\n",
    "n=2\n",
    "while (n != 0 and n != 1):\n",
    "    resto = 0\n",
    "    for i in range (2,n):\n",
    "        if (n%i == 0):\n",
    "            resto += 1\n",
    "            break\n",
    "    if (resto == 0):\n",
    "        print(n,'es primo')\n",
    "        print('Desea encontrar el siguiente numero primo? Escriba SI o NO')\n",
    "        if (input() == 'NO'):\n",
    "            print('Fin')\n",
    "            break\n",
    "    n+=1\n"
   ]
  },
  {
   "cell_type": "code",
   "execution_count": 56,
   "metadata": {},
   "outputs": [],
   "source": [
    "# 15) Crear un ciclo while que encuentre dentro del rango de 100 a 300 el primer número divisible por 3 y además múltiplo de 6\n",
    "n = 10 \n",
    "while (n > 20):\n",
    "    if (n%3 == 0):\n",
    "        if (n%6 == 0):\n",
    "            print(n,'divisible')\n",
    "            \n",
    "    else:\n",
    "        print('no divi')\n",
    "    n +=1"
   ]
  }
 ],
 "metadata": {
  "kernelspec": {
   "display_name": "Python 3.10.6 64-bit (microsoft store)",
   "language": "python",
   "name": "python3"
  },
  "language_info": {
   "codemirror_mode": {
    "name": "ipython",
    "version": 3
   },
   "file_extension": ".py",
   "mimetype": "text/x-python",
   "name": "python",
   "nbconvert_exporter": "python",
   "pygments_lexer": "ipython3",
   "version": "3.10.6"
  },
  "orig_nbformat": 4,
  "vscode": {
   "interpreter": {
    "hash": "19d762ffc7d2f958e0963c75da0d959adf181f4ac62524ed3e80179df28269f1"
   }
  }
 },
 "nbformat": 4,
 "nbformat_minor": 2
}
