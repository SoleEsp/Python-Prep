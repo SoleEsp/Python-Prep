{
 "cells": [
  {
   "cell_type": "code",
   "execution_count": 1,
   "metadata": {},
   "outputs": [
    {
     "name": "stdout",
     "output_type": "stream",
     "text": [
      "Es mayor a 0\n"
     ]
    }
   ],
   "source": [
    "# 1) Crear una variable que contenga un elemento del conjunto de números enteros y luego imprimir por pantalla si es mayor o menor a cero\n",
    "\n",
    "a = 3\n",
    "\n",
    "if (a > 0):\n",
    "    print('Es mayor a 0')\n",
    "else:\n",
    "    print('Es menor a 0')"
   ]
  },
  {
   "cell_type": "code",
   "execution_count": 2,
   "metadata": {},
   "outputs": [
    {
     "name": "stdout",
     "output_type": "stream",
     "text": [
      "Las variables son del mismo tipo de datos\n"
     ]
    }
   ],
   "source": [
    "# 2) Crear dos variables y un condicional que informe si son del mismo tipo de dato\n",
    "\n",
    "var1 = '2'\n",
    "var2 = 2\n",
    "\n",
    "if (type(var1) == type(var2)):\n",
    "    print('Las variables son del mismo tipo de datos')\n",
    "else:\n",
    "    print('Las variables no son del mismo tipo de datos')"
   ]
  },
  {
   "cell_type": "code",
   "execution_count": 3,
   "metadata": {},
   "outputs": [
    {
     "name": "stdout",
     "output_type": "stream",
     "text": [
      "1 : es un numero IMPAR\n",
      "2  :Es un numero PAR\n",
      "3 : es un numero IMPAR\n",
      "4  :Es un numero PAR\n",
      "5 : es un numero IMPAR\n",
      "6  :Es un numero PAR\n",
      "7 : es un numero IMPAR\n",
      "8  :Es un numero PAR\n",
      "9 : es un numero IMPAR\n",
      "10  :Es un numero PAR\n",
      "11 : es un numero IMPAR\n",
      "12  :Es un numero PAR\n",
      "13 : es un numero IMPAR\n",
      "14  :Es un numero PAR\n",
      "15 : es un numero IMPAR\n",
      "16  :Es un numero PAR\n",
      "17 : es un numero IMPAR\n",
      "18  :Es un numero PAR\n",
      "19 : es un numero IMPAR\n",
      "20  :Es un numero PAR\n"
     ]
    }
   ],
   "source": [
    "# 3) Para los valores enteros del 1 al 20, imprimir por pantalla si es par o impar\n",
    "\n",
    "var = 1\n",
    "\n",
    "while (var <= 20):\n",
    "    if (var%2 == 0):\n",
    "        print(var, ' :Es un numero PAR')\n",
    "    else:\n",
    "        print(var, ': es un numero IMPAR')\n",
    "    var += 1"
   ]
  },
  {
   "cell_type": "code",
   "execution_count": 7,
   "metadata": {},
   "outputs": [
    {
     "name": "stdout",
     "output_type": "stream",
     "text": [
      "0 elevado a 3 es igual a  0\n",
      "1 elevado a 3 es igual a  1\n",
      "2 elevado a 3 es igual a  8\n",
      "3 elevado a 3 es igual a  27\n",
      "4 elevado a 3 es igual a  64\n",
      "5 elevado a 3 es igual a  125\n"
     ]
    }
   ],
   "source": [
    "# 4) En un ciclo for mostrar para los valores entre 0 y 5 el resultado de elevarlo a la potencia igual a 3\n",
    "\n",
    "for i in range (6):\n",
    "    print(i, 'elevado a 3 es igual a ', i**3)"
   ]
  },
  {
   "cell_type": "code",
   "execution_count": 9,
   "metadata": {},
   "outputs": [
    {
     "name": "stdout",
     "output_type": "stream",
     "text": [
      "Cantidad de ciclos:  9\n"
     ]
    }
   ],
   "source": [
    "# 5) Crear una variable que contenga un número entero y realizar un ciclo for la misma cantidad de ciclos\n",
    "\n",
    "var = 10\n",
    "\n",
    "for i in range(var):\n",
    "    pass\n",
    "print('Cantidad de ciclos: ', i)"
   ]
  },
  {
   "cell_type": "code",
   "execution_count": null,
   "metadata": {},
   "outputs": [],
   "source": [
    "# 6) Utilizar un ciclo while para realizar el factorial de un número guardado en una variable, sólo si la variable contiene un número entero mayor a 0\n",
    "\n",
    "\n"
   ]
  }
 ],
 "metadata": {
  "kernelspec": {
   "display_name": "Python 3.10.6 64-bit",
   "language": "python",
   "name": "python3"
  },
  "language_info": {
   "codemirror_mode": {
    "name": "ipython",
    "version": 3
   },
   "file_extension": ".py",
   "mimetype": "text/x-python",
   "name": "python",
   "nbconvert_exporter": "python",
   "pygments_lexer": "ipython3",
   "version": "3.10.6"
  },
  "orig_nbformat": 4,
  "vscode": {
   "interpreter": {
    "hash": "341268af697f69dd1ffdcdac7af840419ecb88f390bc16e46c3586102df69d04"
   }
  }
 },
 "nbformat": 4,
 "nbformat_minor": 2
}
